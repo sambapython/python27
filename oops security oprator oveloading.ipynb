{
 "cells": [
  {
   "cell_type": "code",
   "execution_count": 1,
   "metadata": {
    "collapsed": false
   },
   "outputs": [
    {
     "name": "stdout",
     "output_type": "stream",
     "text": [
      "Anil,mod\n"
     ]
    }
   ],
   "source": [
    "class Emp:\n",
    "    def __init__(self,name,age,inc_per):\n",
    "        self.name=name\n",
    "        self.age=age\n",
    "        self._incper=inc_per\n",
    "    def cal_sal(self):\n",
    "        return self._incper\n",
    "    def get(self):\n",
    "        return self.name\n",
    "anil=Emp(\"Anil\",23,10)\n",
    "ashok=Emp(\"Ashok\",24,12)\n",
    "anil.name=\"Anil,mod\"\n",
    "print anil.get()\n",
    "\n"
   ]
  },
  {
   "cell_type": "code",
   "execution_count": 5,
   "metadata": {
    "collapsed": false
   },
   "outputs": [
    {
     "name": "stdout",
     "output_type": "stream",
     "text": [
      "Anil,mod\n",
      "10\n"
     ]
    }
   ],
   "source": [
    "class Emp:\n",
    "    def __init__(self,name,age,inc_per):\n",
    "        self.name=name\n",
    "        self.age=age\n",
    "        self.__incper=inc_per\n",
    "    def cal_sal(self):\n",
    "        return self.__incper\n",
    "    def get(self):\n",
    "        return self.name\n",
    "anil=Emp(\"Anil\",23,10)\n",
    "ashok=Emp(\"Ashok\",24,12)\n",
    "anil.name=\"Anil,mod\"\n",
    "print anil.get()\n",
    "anil.__incper=20\n",
    "print anil.cal_sal()\n",
    "\n"
   ]
  },
  {
   "cell_type": "code",
   "execution_count": 7,
   "metadata": {
    "collapsed": false
   },
   "outputs": [
    {
     "name": "stdout",
     "output_type": "stream",
     "text": [
      "Anil,mod\n",
      "44000.0\n"
     ]
    }
   ],
   "source": [
    "class Emp:\n",
    "    def __init__(self,name,age,inc_per,sal):\n",
    "        self.name=name\n",
    "        self.age=age\n",
    "        self.__incper=inc_per\n",
    "        self.sal=sal\n",
    "    def cal_sal(self):\n",
    "        return self.sal+self.sal*(self.__incper/100.0)\n",
    "    def get(self):\n",
    "        return self.name\n",
    "anil=Emp(\"Anil\",23,10,40000)\n",
    "ashok=Emp(\"Ashok\",24,12,30000)\n",
    "anil.name=\"Anil,mod\"\n",
    "print anil.get()\n",
    "anil.__incper=20\n",
    "print anil.cal_sal()\n",
    "\n"
   ]
  },
  {
   "cell_type": "code",
   "execution_count": 8,
   "metadata": {
    "collapsed": false
   },
   "outputs": [
    {
     "name": "stdout",
     "output_type": "stream",
     "text": [
      "Anil,mod\n",
      "44000.0\n"
     ]
    },
    {
     "ename": "AttributeError",
     "evalue": "Emp instance has no attribute '__incperchange'",
     "output_type": "error",
     "traceback": [
      "\u001b[1;31m---------------------------------------------------------------------------\u001b[0m",
      "\u001b[1;31mAttributeError\u001b[0m                            Traceback (most recent call last)",
      "\u001b[1;32m<ipython-input-8-b5da745d456a>\u001b[0m in \u001b[0;36m<module>\u001b[1;34m()\u001b[0m\n\u001b[0;32m     17\u001b[0m \u001b[0manil\u001b[0m\u001b[1;33m.\u001b[0m\u001b[0m__incper\u001b[0m\u001b[1;33m=\u001b[0m\u001b[1;36m20\u001b[0m\u001b[1;33m\u001b[0m\u001b[0m\n\u001b[0;32m     18\u001b[0m \u001b[1;32mprint\u001b[0m \u001b[0manil\u001b[0m\u001b[1;33m.\u001b[0m\u001b[0mcal_sal\u001b[0m\u001b[1;33m(\u001b[0m\u001b[1;33m)\u001b[0m\u001b[1;33m\u001b[0m\u001b[0m\n\u001b[1;32m---> 19\u001b[1;33m \u001b[1;32mprint\u001b[0m \u001b[0manil\u001b[0m\u001b[1;33m.\u001b[0m\u001b[0m__incperchange\u001b[0m\u001b[1;33m(\u001b[0m\u001b[1;33m)\u001b[0m\u001b[1;33m\u001b[0m\u001b[0m\n\u001b[0m\u001b[0;32m     20\u001b[0m \u001b[1;33m\u001b[0m\u001b[0m\n",
      "\u001b[1;31mAttributeError\u001b[0m: Emp instance has no attribute '__incperchange'"
     ]
    }
   ],
   "source": [
    "class Emp:\n",
    "    def __init__(self,name,age,inc_per,sal):\n",
    "        self.name=name\n",
    "        self.age=age\n",
    "        self.__incper=inc_per\n",
    "        self.sal=sal\n",
    "    def cal_sal(self):\n",
    "        return self.sal+self.sal*(self.__incper/100.0)\n",
    "    def get(self):\n",
    "        return self.name\n",
    "    def __incperchange(self):\n",
    "        return 10\n",
    "anil=Emp(\"Anil\",23,10,40000)\n",
    "ashok=Emp(\"Ashok\",24,12,30000)\n",
    "anil.name=\"Anil,mod\"\n",
    "print anil.get()\n",
    "anil.__incper=20\n",
    "print anil.cal_sal()\n",
    "print anil.__incperchange()\n",
    "\n"
   ]
  },
  {
   "cell_type": "code",
   "execution_count": 9,
   "metadata": {
    "collapsed": false
   },
   "outputs": [
    {
     "name": "stdout",
     "output_type": "stream",
     "text": [
      "Anil,mod\n",
      "44000.0\n"
     ]
    },
    {
     "ename": "AttributeError",
     "evalue": "Emp instance has no attribute '__incperchange'",
     "output_type": "error",
     "traceback": [
      "\u001b[1;31m---------------------------------------------------------------------------\u001b[0m",
      "\u001b[1;31mAttributeError\u001b[0m                            Traceback (most recent call last)",
      "\u001b[1;32m<ipython-input-9-27a52e9c7bfc>\u001b[0m in \u001b[0;36m<module>\u001b[1;34m()\u001b[0m\n\u001b[0;32m     19\u001b[0m \u001b[0manil\u001b[0m\u001b[1;33m.\u001b[0m\u001b[0m__incper\u001b[0m\u001b[1;33m=\u001b[0m\u001b[1;36m20\u001b[0m\u001b[1;33m\u001b[0m\u001b[0m\n\u001b[0;32m     20\u001b[0m \u001b[1;32mprint\u001b[0m \u001b[0manil\u001b[0m\u001b[1;33m.\u001b[0m\u001b[0mcal_sal\u001b[0m\u001b[1;33m(\u001b[0m\u001b[1;33m)\u001b[0m\u001b[1;33m\u001b[0m\u001b[0m\n\u001b[1;32m---> 21\u001b[1;33m \u001b[1;32mprint\u001b[0m \u001b[0manil\u001b[0m\u001b[1;33m.\u001b[0m\u001b[0m__incperchange\u001b[0m\u001b[1;33m(\u001b[0m\u001b[1;33m)\u001b[0m\u001b[1;33m\u001b[0m\u001b[0m\n\u001b[0m\u001b[0;32m     22\u001b[0m \u001b[1;33m\u001b[0m\u001b[0m\n",
      "\u001b[1;31mAttributeError\u001b[0m: Emp instance has no attribute '__incperchange'"
     ]
    }
   ],
   "source": [
    "class Emp:\n",
    "    def __init__(self,name,age,inc_per,sal):\n",
    "        self.name=name\n",
    "        self.age=age\n",
    "        self.__incper=inc_per\n",
    "        self.sal=sal\n",
    "    def cal_sal(self):\n",
    "        \n",
    "        return self.sal+self.sal*(self.__incper/100.0)\n",
    "    def get(self):\n",
    "        return self.name\n",
    "    \n",
    "    def __incperchange(self):\n",
    "        return 10\n",
    "anil=Emp(\"Anil\",23,10,40000)\n",
    "ashok=Emp(\"Ashok\",24,12,30000)\n",
    "anil.name=\"Anil,mod\"\n",
    "print anil.get()\n",
    "anil.__incper=20\n",
    "print anil.cal_sal()\n",
    "print anil.__incperchange()\n",
    "\n"
   ]
  },
  {
   "cell_type": "code",
   "execution_count": 10,
   "metadata": {
    "collapsed": false
   },
   "outputs": [
    {
     "name": "stdout",
     "output_type": "stream",
     "text": [
      "30\n",
      "str1str2\n",
      "[1, 2, 3, 5, 6, 7, 8]\n"
     ]
    }
   ],
   "source": [
    "#operator overloading\n",
    "print 10+20\n",
    "print \"str1\"+\"str2\"\n",
    "print [1,2,3]+[5,6,7,8]"
   ]
  },
  {
   "cell_type": "code",
   "execution_count": 11,
   "metadata": {
    "collapsed": false
   },
   "outputs": [
    {
     "ename": "TypeError",
     "evalue": "unsupported operand type(s) for +: 'instance' and 'instance'",
     "output_type": "error",
     "traceback": [
      "\u001b[1;31m---------------------------------------------------------------------------\u001b[0m",
      "\u001b[1;31mTypeError\u001b[0m                                 Traceback (most recent call last)",
      "\u001b[1;32m<ipython-input-11-5083b599a6ab>\u001b[0m in \u001b[0;36m<module>\u001b[1;34m()\u001b[0m\n\u001b[0;32m     15\u001b[0m \u001b[0manil\u001b[0m\u001b[1;33m=\u001b[0m\u001b[0mEmp\u001b[0m\u001b[1;33m(\u001b[0m\u001b[1;34m\"Anil\"\u001b[0m\u001b[1;33m,\u001b[0m\u001b[1;36m23\u001b[0m\u001b[1;33m,\u001b[0m\u001b[1;36m10\u001b[0m\u001b[1;33m,\u001b[0m\u001b[1;36m40000\u001b[0m\u001b[1;33m)\u001b[0m\u001b[1;33m\u001b[0m\u001b[0m\n\u001b[0;32m     16\u001b[0m \u001b[0mashok\u001b[0m\u001b[1;33m=\u001b[0m\u001b[0mEmp\u001b[0m\u001b[1;33m(\u001b[0m\u001b[1;34m\"Ashok\"\u001b[0m\u001b[1;33m,\u001b[0m\u001b[1;36m24\u001b[0m\u001b[1;33m,\u001b[0m\u001b[1;36m12\u001b[0m\u001b[1;33m,\u001b[0m\u001b[1;36m30000\u001b[0m\u001b[1;33m)\u001b[0m\u001b[1;33m\u001b[0m\u001b[0m\n\u001b[1;32m---> 17\u001b[1;33m \u001b[1;32mprint\u001b[0m \u001b[0manil\u001b[0m\u001b[1;33m+\u001b[0m\u001b[0mashok\u001b[0m\u001b[1;33m\u001b[0m\u001b[0m\n\u001b[0m",
      "\u001b[1;31mTypeError\u001b[0m: unsupported operand type(s) for +: 'instance' and 'instance'"
     ]
    }
   ],
   "source": [
    "class Emp:\n",
    "    def __init__(self,name,age,inc_per,sal):\n",
    "        self.name=name\n",
    "        self.age=age\n",
    "        self.__incper=inc_per\n",
    "        self.sal=sal\n",
    "    def cal_sal(self):\n",
    "        \n",
    "        return self.sal+self.sal*(self.__incper/100.0)\n",
    "    def get(self):\n",
    "        return self.name\n",
    "    \n",
    "    def __incperchange(self):\n",
    "        return 10\n",
    "anil=Emp(\"Anil\",23,10,40000)\n",
    "ashok=Emp(\"Ashok\",24,12,30000)\n",
    "print anil+ashok"
   ]
  },
  {
   "cell_type": "code",
   "execution_count": 12,
   "metadata": {
    "collapsed": false
   },
   "outputs": [
    {
     "name": "stdout",
     "output_type": "stream",
     "text": [
      "return value\n"
     ]
    }
   ],
   "source": [
    "class Emp:\n",
    "    def __init__(self,name,age,inc_per,sal):\n",
    "        self.name=name\n",
    "        self.age=age\n",
    "        self.__incper=inc_per\n",
    "        self.sal=sal\n",
    "    def cal_sal(self):\n",
    "        \n",
    "        return self.sal+self.sal*(self.__incper/100.0)\n",
    "    def get(self):\n",
    "        return self.name\n",
    "    \n",
    "    def __incperchange(self):\n",
    "        return 10\n",
    "    \n",
    "    def __add__(self1,self2):\n",
    "        return \"return value\"\n",
    "        \n",
    "anil=Emp(\"Anil\",23,10,40000)\n",
    "ashok=Emp(\"Ashok\",24,12,30000)\n",
    "print anil+ashok #[(),()]"
   ]
  },
  {
   "cell_type": "code",
   "execution_count": 14,
   "metadata": {
    "collapsed": false
   },
   "outputs": [
    {
     "name": "stdout",
     "output_type": "stream",
     "text": [
      "[('Anil', 23, 40000), ('Ashok', 24, 30000)]\n"
     ]
    }
   ],
   "source": [
    "class Emp:\n",
    "    def __init__(self,name,age,inc_per,sal):\n",
    "        self.name=name\n",
    "        self.age=age\n",
    "        self.__incper=inc_per\n",
    "        self.sal=sal\n",
    "    def cal_sal(self):\n",
    "        \n",
    "        return self.sal+self.sal*(self.__incper/100.0)\n",
    "    def get(self):\n",
    "        return self.name\n",
    "    \n",
    "    def __incperchange(self):\n",
    "        return 10\n",
    "    \n",
    "    def __add__(self1,self2):\n",
    "        return [(self1.name,self1.age,self1.sal),(self2.name,self2.age,self2.sal)]\n",
    "        \n",
    "anil=Emp(\"Anil\",23,10,40000)\n",
    "ashok=Emp(\"Ashok\",24,12,30000)\n",
    "print anil+ashok #[(),()]"
   ]
  },
  {
   "cell_type": "code",
   "execution_count": 16,
   "metadata": {
    "collapsed": false
   },
   "outputs": [
    {
     "name": "stdout",
     "output_type": "stream",
     "text": [
      "110\n"
     ]
    }
   ],
   "source": [
    "class c1:\n",
    "    def __init__(self,a):\n",
    "        self.a=a\n",
    "    def __add__(self,obj):\n",
    "        return self.a+obj.a\n",
    "a1=c1(10)\n",
    "a2=c1(100)\n",
    "print a1+a2"
   ]
  },
  {
   "cell_type": "code",
   "execution_count": 17,
   "metadata": {
    "collapsed": false
   },
   "outputs": [
    {
     "ename": "TypeError",
     "evalue": "unsupported operand type(s) for +: 'int' and 'instance'",
     "output_type": "error",
     "traceback": [
      "\u001b[1;31m---------------------------------------------------------------------------\u001b[0m",
      "\u001b[1;31mTypeError\u001b[0m                                 Traceback (most recent call last)",
      "\u001b[1;32m<ipython-input-17-362b24849b54>\u001b[0m in \u001b[0;36m<module>\u001b[1;34m()\u001b[0m\n\u001b[0;32m      7\u001b[0m \u001b[0ma2\u001b[0m\u001b[1;33m=\u001b[0m\u001b[0mc1\u001b[0m\u001b[1;33m(\u001b[0m\u001b[1;36m100\u001b[0m\u001b[1;33m)\u001b[0m\u001b[1;33m\u001b[0m\u001b[0m\n\u001b[0;32m      8\u001b[0m \u001b[0ma3\u001b[0m\u001b[1;33m=\u001b[0m\u001b[0mc1\u001b[0m\u001b[1;33m(\u001b[0m\u001b[1;36m1000\u001b[0m\u001b[1;33m)\u001b[0m\u001b[1;33m\u001b[0m\u001b[0m\n\u001b[1;32m----> 9\u001b[1;33m \u001b[1;32mprint\u001b[0m \u001b[0ma1\u001b[0m\u001b[1;33m+\u001b[0m\u001b[0ma2\u001b[0m\u001b[1;33m+\u001b[0m\u001b[0ma3\u001b[0m\u001b[1;33m\u001b[0m\u001b[0m\n\u001b[0m",
      "\u001b[1;31mTypeError\u001b[0m: unsupported operand type(s) for +: 'int' and 'instance'"
     ]
    }
   ],
   "source": [
    "class c1:\n",
    "    def __init__(self,a):\n",
    "        self.a=a\n",
    "    def __add__(self,obj):\n",
    "        return self.a+obj.a\n",
    "a1=c1(10)\n",
    "a2=c1(100)\n",
    "a3=c1(1000)\n",
    "print a1+a2+a3"
   ]
  },
  {
   "cell_type": "code",
   "execution_count": 18,
   "metadata": {
    "collapsed": false
   },
   "outputs": [
    {
     "ename": "TypeError",
     "evalue": "unsupported operand type(s) for +: 'int' and 'instance'",
     "output_type": "error",
     "traceback": [
      "\u001b[1;31m---------------------------------------------------------------------------\u001b[0m",
      "\u001b[1;31mTypeError\u001b[0m                                 Traceback (most recent call last)",
      "\u001b[1;32m<ipython-input-18-e184cb2f6823>\u001b[0m in \u001b[0;36m<module>\u001b[1;34m()\u001b[0m\n\u001b[1;32m----> 1\u001b[1;33m \u001b[1;36m110\u001b[0m\u001b[1;33m+\u001b[0m\u001b[0ma3\u001b[0m\u001b[1;33m\u001b[0m\u001b[0m\n\u001b[0m",
      "\u001b[1;31mTypeError\u001b[0m: unsupported operand type(s) for +: 'int' and 'instance'"
     ]
    }
   ],
   "source": [
    "110+a3"
   ]
  },
  {
   "cell_type": "code",
   "execution_count": 19,
   "metadata": {
    "collapsed": false
   },
   "outputs": [
    {
     "name": "stdout",
     "output_type": "stream",
     "text": [
      "100\n"
     ]
    }
   ],
   "source": [
    "a=10\n",
    "b=20\n",
    "c=30\n",
    "d=40\n",
    "print a+b+c+d"
   ]
  },
  {
   "cell_type": "code",
   "execution_count": 20,
   "metadata": {
    "collapsed": false
   },
   "outputs": [
    {
     "name": "stdout",
     "output_type": "stream",
     "text": [
      "1110\n"
     ]
    }
   ],
   "source": [
    "class c1:\n",
    "    def __init__(self,a):\n",
    "        self.a=a\n",
    "    def __add__(self,obj):\n",
    "        return self.a+obj.a\n",
    "    def __radd__(self,oth):\n",
    "        return self.a+oth\n",
    "a1=c1(10)\n",
    "a2=c1(100)\n",
    "a3=c1(1000)\n",
    "print a1+a2+a3"
   ]
  },
  {
   "cell_type": "code",
   "execution_count": 22,
   "metadata": {
    "collapsed": false
   },
   "outputs": [
    {
     "name": "stdout",
     "output_type": "stream",
     "text": [
      "240\n"
     ]
    }
   ],
   "source": [
    "class c1:\n",
    "    def __init__(self,a,b):\n",
    "        self.a=a\n",
    "        self.b=b\n",
    "    def __add__(self,obj):\n",
    "        return self.b+obj.b\n",
    "    \n",
    "    def __radd__(self,oth):\n",
    "        return self.b+oth\n",
    "a1=c1(10,20)\n",
    "a2=c1(100,20)\n",
    "a3=c1(1000,200)\n",
    "print a1+a2+a3"
   ]
  },
  {
   "cell_type": "code",
   "execution_count": 23,
   "metadata": {
    "collapsed": false
   },
   "outputs": [
    {
     "name": "stdout",
     "output_type": "stream",
     "text": [
      "240\n"
     ]
    }
   ],
   "source": [
    "class c1:\n",
    "    def __init__(self,a,b):\n",
    "        self.a=a\n",
    "        self.b=b\n",
    "    \n",
    "    def __radd__(self,oth):\n",
    "        return self.b+oth\n",
    "a1=c1(10,20)\n",
    "a2=c1(100,20)\n",
    "a3=c1(1000,200)\n",
    "print a1+a2+a3"
   ]
  },
  {
   "cell_type": "code",
   "execution_count": null,
   "metadata": {
    "collapsed": true
   },
   "outputs": [],
   "source": []
  }
 ],
 "metadata": {
  "kernelspec": {
   "display_name": "Python 2",
   "language": "python",
   "name": "python2"
  },
  "language_info": {
   "codemirror_mode": {
    "name": "ipython",
    "version": 2
   },
   "file_extension": ".py",
   "mimetype": "text/x-python",
   "name": "python",
   "nbconvert_exporter": "python",
   "pygments_lexer": "ipython2",
   "version": "2.7.11"
  }
 },
 "nbformat": 4,
 "nbformat_minor": 0
}
