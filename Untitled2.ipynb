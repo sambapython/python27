{
 "cells": [
  {
   "cell_type": "code",
   "execution_count": 1,
   "metadata": {
    "collapsed": false
   },
   "outputs": [
    {
     "name": "stdout",
     "output_type": "stream",
     "text": [
      "Enter number: 123\n",
      "321\n"
     ]
    }
   ],
   "source": [
    "# findout given number is palindrome or not?\n",
    "# 121   == 121\n",
    "#1221 == 1221\n",
    "a=raw_input(\"Enter number: \")\n",
    "print a[::-1]\n"
   ]
  },
  {
   "cell_type": "code",
   "execution_count": 2,
   "metadata": {
    "collapsed": false
   },
   "outputs": [
    {
     "name": "stdout",
     "output_type": "stream",
     "text": [
      "Enter number: 121\n",
      "palindrome\n"
     ]
    }
   ],
   "source": [
    "# findout given number is palindrome or not?\n",
    "# 121   == 121\n",
    "#1221 == 1221\n",
    "a=raw_input(\"Enter number: \")\n",
    "a_reverse = a[::-1]\n",
    "if a == a_reverse:\n",
    "    print  \"palindrome\"\n",
    "else:\n",
    "    print \"not a palindrome\"\n"
   ]
  },
  {
   "cell_type": "code",
   "execution_count": 3,
   "metadata": {
    "collapsed": false
   },
   "outputs": [
    {
     "name": "stdout",
     "output_type": "stream",
     "text": [
      "Enter number: 123\n",
      "not a palindrome\n"
     ]
    }
   ],
   "source": [
    "# findout given number is palindrome or not?\n",
    "# 121   == 121\n",
    "#1221 == 1221\n",
    "a=raw_input(\"Enter number: \")\n",
    "a_reverse = a[::-1]\n",
    "if a == a_reverse:\n",
    "    print  \"palindrome\"\n",
    "else:\n",
    "    print \"not a palindrome\"\n"
   ]
  },
  {
   "cell_type": "code",
   "execution_count": 4,
   "metadata": {
    "collapsed": false
   },
   "outputs": [
    {
     "name": "stdout",
     "output_type": "stream",
     "text": [
      "Enter number: \n",
      "palindrome\n"
     ]
    }
   ],
   "source": [
    "# findout given number is palindrome or not?\n",
    "# 121   == 121\n",
    "#1221 == 1221\n",
    "a=raw_input(\"Enter number: \")\n",
    "a_reverse = a[::-1]\n",
    "if a == a_reverse:\n",
    "    print  \"palindrome\"\n",
    "else:\n",
    "    print \"not a palindrome\"\n"
   ]
  },
  {
   "cell_type": "code",
   "execution_count": 6,
   "metadata": {
    "collapsed": false
   },
   "outputs": [
    {
     "name": "stdout",
     "output_type": "stream",
     "text": [
      "Enter number: 123\n",
      "not a palindrome\n"
     ]
    }
   ],
   "source": [
    "# findout given number is palindrome or not?\n",
    "# 121   == 121\n",
    "#1221 == 1221\n",
    "a=raw_input(\"Enter number: \")\n",
    "if a:\n",
    "    a_reverse = a[::-1]\n",
    "    if a == a_reverse:\n",
    "        print  \"palindrome\"\n",
    "    else:\n",
    "        print \"not a palindrome\"\n",
    "else:\n",
    "    print \"please enter a number\""
   ]
  },
  {
   "cell_type": "code",
   "execution_count": 7,
   "metadata": {
    "collapsed": false
   },
   "outputs": [
    {
     "name": "stdout",
     "output_type": "stream",
     "text": [
      "Enter number: \n",
      "please enter a number\n"
     ]
    }
   ],
   "source": [
    "# findout given number is palindrome or not?\n",
    "# 121   == 121\n",
    "#1221 == 1221\n",
    "a=raw_input(\"Enter number: \")\n",
    "if a:\n",
    "    a_reverse = a[::-1]\n",
    "    if a == a_reverse:\n",
    "        print  \"palindrome\"\n",
    "    else:\n",
    "        print \"not a palindrome\"\n",
    "else:\n",
    "    print \"please enter a number\""
   ]
  },
  {
   "cell_type": "code",
   "execution_count": 8,
   "metadata": {
    "collapsed": true
   },
   "outputs": [],
   "source": [
    "def fun():\n",
    "    print \"function started\""
   ]
  },
  {
   "cell_type": "code",
   "execution_count": 9,
   "metadata": {
    "collapsed": false
   },
   "outputs": [
    {
     "name": "stdout",
     "output_type": "stream",
     "text": [
      "function started\n"
     ]
    }
   ],
   "source": [
    "fun()"
   ]
  },
  {
   "cell_type": "code",
   "execution_count": 10,
   "metadata": {
    "collapsed": false
   },
   "outputs": [
    {
     "name": "stdout",
     "output_type": "stream",
     "text": [
      "program strted\n",
      "other statements in program\n",
      "progrem ended\n"
     ]
    }
   ],
   "source": [
    "print \"program strted\"\n",
    "def fun():\n",
    "    print \"function started\"\n",
    "print \"other statements in program\"\n",
    "print \"progrem ended\""
   ]
  },
  {
   "cell_type": "code",
   "execution_count": 11,
   "metadata": {
    "collapsed": false
   },
   "outputs": [
    {
     "name": "stdout",
     "output_type": "stream",
     "text": [
      "program strted\n",
      "other statements in program\n",
      "function started\n",
      "progrem ended\n"
     ]
    }
   ],
   "source": [
    "print \"program strted\"\n",
    "def fun():\n",
    "    print \"function started\"\n",
    "print \"other statements in program\"\n",
    "fun()\n",
    "print \"progrem ended\""
   ]
  },
  {
   "cell_type": "code",
   "execution_count": 12,
   "metadata": {
    "collapsed": false
   },
   "outputs": [
    {
     "name": "stdout",
     "output_type": "stream",
     "text": [
      "program strted\n",
      "other statements in program\n"
     ]
    },
    {
     "ename": "TypeError",
     "evalue": "fun() takes exactly 2 arguments (0 given)",
     "output_type": "error",
     "traceback": [
      "\u001b[1;31m---------------------------------------------------------------------------\u001b[0m",
      "\u001b[1;31mTypeError\u001b[0m                                 Traceback (most recent call last)",
      "\u001b[1;32m<ipython-input-12-8a9041ab5ab7>\u001b[0m in \u001b[0;36m<module>\u001b[1;34m()\u001b[0m\n\u001b[0;32m      4\u001b[0m     \u001b[1;32mprint\u001b[0m \u001b[1;34m\"result=\"\u001b[0m\u001b[1;33m,\u001b[0m\u001b[0ma\u001b[0m\u001b[1;33m+\u001b[0m\u001b[0mb\u001b[0m\u001b[1;33m\u001b[0m\u001b[0m\n\u001b[0;32m      5\u001b[0m \u001b[1;32mprint\u001b[0m \u001b[1;34m\"other statements in program\"\u001b[0m\u001b[1;33m\u001b[0m\u001b[0m\n\u001b[1;32m----> 6\u001b[1;33m \u001b[0mfun\u001b[0m\u001b[1;33m(\u001b[0m\u001b[1;33m)\u001b[0m\u001b[1;33m\u001b[0m\u001b[0m\n\u001b[0m\u001b[0;32m      7\u001b[0m \u001b[1;32mprint\u001b[0m \u001b[1;34m\"progrem ended\"\u001b[0m\u001b[1;33m\u001b[0m\u001b[0m\n",
      "\u001b[1;31mTypeError\u001b[0m: fun() takes exactly 2 arguments (0 given)"
     ]
    }
   ],
   "source": [
    "print \"program strted\"\n",
    "def fun(a,b):\n",
    "    print \"a=%s,b=%s\"%(a,b)\n",
    "    print \"result=\",a+b\n",
    "print \"other statements in program\"\n",
    "fun()\n",
    "print \"progrem ended\""
   ]
  },
  {
   "cell_type": "code",
   "execution_count": 13,
   "metadata": {
    "collapsed": false
   },
   "outputs": [
    {
     "name": "stdout",
     "output_type": "stream",
     "text": [
      "program strted\n",
      "other statements in program\n",
      "a=10,b=20\n",
      "result= 30\n",
      "progrem ended\n"
     ]
    }
   ],
   "source": [
    "print \"program strted\"\n",
    "def fun(a,b):\n",
    "    print \"a=%s,b=%s\"%(a,b)\n",
    "    print \"result=\",a+b\n",
    "print \"other statements in program\"\n",
    "fun(10,20)\n",
    "print \"progrem ended\""
   ]
  },
  {
   "cell_type": "code",
   "execution_count": 14,
   "metadata": {
    "collapsed": false
   },
   "outputs": [
    {
     "name": "stdout",
     "output_type": "stream",
     "text": [
      "program strted\n",
      "other statements in program\n",
      "a=10,b=20\n",
      "result= 30\n",
      "result2:  None\n",
      "progrem ended\n"
     ]
    }
   ],
   "source": [
    "print \"program strted\"\n",
    "def fun(a,b):\n",
    "    print \"a=%s,b=%s\"%(a,b)\n",
    "    print \"result=\",a+b\n",
    "print \"other statements in program\"\n",
    "result2 = fun(10,20)\n",
    "print \"result2: \", result2\n",
    "print \"progrem ended\""
   ]
  },
  {
   "cell_type": "code",
   "execution_count": 15,
   "metadata": {
    "collapsed": false
   },
   "outputs": [
    {
     "name": "stdout",
     "output_type": "stream",
     "text": [
      "program strted\n",
      "other statements in program\n",
      "a=10,b=20\n",
      "result= 30\n",
      "result2:  200\n",
      "progrem ended\n"
     ]
    }
   ],
   "source": [
    "print \"program strted\"\n",
    "def fun(a,b):\n",
    "    print \"a=%s,b=%s\"%(a,b)\n",
    "    print \"result=\",a+b\n",
    "    return 200\n",
    "print \"other statements in program\"\n",
    "result2 = fun(10,20)\n",
    "print \"result2: \", result2\n",
    "print \"progrem ended\""
   ]
  },
  {
   "cell_type": "code",
   "execution_count": 16,
   "metadata": {
    "collapsed": false
   },
   "outputs": [
    {
     "name": "stdout",
     "output_type": "stream",
     "text": [
      "program strted\n",
      "other statements in program\n",
      "a=10,b=20\n",
      "result2:  30\n",
      "progrem ended\n"
     ]
    }
   ],
   "source": [
    "print \"program strted\"\n",
    "def fun(a,b):\n",
    "    print \"a=%s,b=%s\"%(a,b)\n",
    "    res = a+b\n",
    "    return res\n",
    "print \"other statements in program\"\n",
    "result2 = fun(10,20)\n",
    "print \"result2: \", result2\n",
    "print \"progrem ended\""
   ]
  },
  {
   "cell_type": "code",
   "execution_count": 17,
   "metadata": {
    "collapsed": false
   },
   "outputs": [
    {
     "name": "stdout",
     "output_type": "stream",
     "text": [
      "program strted\n",
      "other statements in program\n",
      "a= 10\n",
      "result2:  30\n",
      "progrem ended\n"
     ]
    }
   ],
   "source": [
    "print \"program strted\"\n",
    "a=10\n",
    "def fun():\n",
    "    print \"a=\",a\n",
    "print \"other statements in program\"\n",
    "fun()\n",
    "print \"result2: \", result2\n",
    "print \"progrem ended\""
   ]
  },
  {
   "cell_type": "code",
   "execution_count": 18,
   "metadata": {
    "collapsed": false
   },
   "outputs": [
    {
     "name": "stdout",
     "output_type": "stream",
     "text": [
      "program strted\n",
      "other statements in program\n",
      "inside function a123= 200\n",
      "a123="
     ]
    },
    {
     "ename": "NameError",
     "evalue": "name 'a123' is not defined",
     "output_type": "error",
     "traceback": [
      "\u001b[1;31m---------------------------------------------------------------------------\u001b[0m",
      "\u001b[1;31mNameError\u001b[0m                                 Traceback (most recent call last)",
      "\u001b[1;32m<ipython-input-18-4cd78958ec18>\u001b[0m in \u001b[0;36m<module>\u001b[1;34m()\u001b[0m\n\u001b[0;32m      5\u001b[0m \u001b[1;32mprint\u001b[0m \u001b[1;34m\"other statements in program\"\u001b[0m\u001b[1;33m\u001b[0m\u001b[0m\n\u001b[0;32m      6\u001b[0m \u001b[0mfun\u001b[0m\u001b[1;33m(\u001b[0m\u001b[1;33m)\u001b[0m\u001b[1;33m\u001b[0m\u001b[0m\n\u001b[1;32m----> 7\u001b[1;33m \u001b[1;32mprint\u001b[0m \u001b[1;34m\"a123=\"\u001b[0m\u001b[1;33m,\u001b[0m\u001b[0ma123\u001b[0m\u001b[1;33m\u001b[0m\u001b[0m\n\u001b[0m\u001b[0;32m      8\u001b[0m \u001b[1;32mprint\u001b[0m \u001b[1;34m\"result2: \"\u001b[0m\u001b[1;33m,\u001b[0m \u001b[0mresult2\u001b[0m\u001b[1;33m\u001b[0m\u001b[0m\n\u001b[0;32m      9\u001b[0m \u001b[1;32mprint\u001b[0m \u001b[1;34m\"progrem ended\"\u001b[0m\u001b[1;33m\u001b[0m\u001b[0m\n",
      "\u001b[1;31mNameError\u001b[0m: name 'a123' is not defined"
     ]
    }
   ],
   "source": [
    "print \"program strted\"\n",
    "def fun():\n",
    "    a123=200\n",
    "    print \"inside function a123=\",a123\n",
    "print \"other statements in program\"\n",
    "fun()\n",
    "print \"a123=\",a123\n",
    "print \"result2: \", result2\n",
    "print \"progrem ended\""
   ]
  },
  {
   "cell_type": "code",
   "execution_count": 19,
   "metadata": {
    "collapsed": false
   },
   "outputs": [
    {
     "name": "stdout",
     "output_type": "stream",
     "text": [
      " program strted\n",
      "other statements in program\n",
      "inside function a123= 200\n",
      "a123= 200\n",
      "result2:  30\n",
      "progrem ended\n"
     ]
    }
   ],
   "source": [
    "print \"program strted\"\n",
    "def fun():\n",
    "    a123=200\n",
    "    print \"inside function a123=\",a123\n",
    "    return a123\n",
    "print \"other statements in program\"\n",
    "a123 = fun()\n",
    "print \"a123=\",a123\n",
    "print \"result2: \", result2\n",
    "print \"progrem ended\""
   ]
  },
  {
   "cell_type": "code",
   "execution_count": null,
   "metadata": {
    "collapsed": true
   },
   "outputs": [],
   "source": []
  }
 ],
 "metadata": {
  "kernelspec": {
   "display_name": "Python 2",
   "language": "python",
   "name": "python2"
  },
  "language_info": {
   "codemirror_mode": {
    "name": "ipython",
    "version": 2
   },
   "file_extension": ".py",
   "mimetype": "text/x-python",
   "name": "python",
   "nbconvert_exporter": "python",
   "pygments_lexer": "ipython2",
   "version": "2.7.11"
  }
 },
 "nbformat": 4,
 "nbformat_minor": 0
}
