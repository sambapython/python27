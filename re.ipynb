{
 "cells": [
  {
   "cell_type": "code",
   "execution_count": 1,
   "metadata": {
    "collapsed": true
   },
   "outputs": [],
   "source": [
    "import re"
   ]
  },
  {
   "cell_type": "code",
   "execution_count": 10,
   "metadata": {
    "collapsed": false
   },
   "outputs": [],
   "source": [
    "data = open(\"data2.txt\").read()"
   ]
  },
  {
   "cell_type": "code",
   "execution_count": 11,
   "metadata": {
    "collapsed": false
   },
   "outputs": [
    {
     "data": {
      "text/plain": [
       "'1,name1,email1@gmail.com,7869087654\\n2,email2@yahoo.com,7869087655,name2\\n7869087656,3,name3,email3@redif.com\\n7869087657,4,NAME4,EMAIL4@redif.com\\n\\n'"
      ]
     },
     "execution_count": 11,
     "metadata": {},
     "output_type": "execute_result"
    }
   ],
   "source": [
    "data"
   ]
  },
  {
   "cell_type": "code",
   "execution_count": 12,
   "metadata": {
    "collapsed": false
   },
   "outputs": [
    {
     "name": "stdout",
     "output_type": "stream",
     "text": [
      "['7869087654', '7869087655', '7869087656', '7869087657']\n"
     ]
    }
   ],
   "source": [
    "print re.findall(\"[0-9]{10}\",data)"
   ]
  },
  {
   "cell_type": "code",
   "execution_count": 13,
   "metadata": {
    "collapsed": true
   },
   "outputs": [],
   "source": [
    "# [],{},$,^,+,.,*"
   ]
  },
  {
   "cell_type": "code",
   "execution_count": 14,
   "metadata": {
    "collapsed": false
   },
   "outputs": [
    {
     "name": "stdout",
     "output_type": "stream",
     "text": [
      "['a', 'a', 'g', 'a', 'a', 'a', 'a', 'a', 'a', 'd', 'f', 'd', 'f']\n"
     ]
    }
   ],
   "source": [
    "print re.findall(\"[agsdjfgk]\",data)"
   ]
  },
  {
   "cell_type": "code",
   "execution_count": 15,
   "metadata": {
    "collapsed": false
   },
   "outputs": [
    {
     "name": "stdout",
     "output_type": "stream",
     "text": [
      "['e1', 'l1', 'l2', 'e2', 'e3', 'l3', 'E4', 'L4']\n"
     ]
    }
   ],
   "source": [
    "print re.findall(\"[a-z][0-9]\",data,re.I)"
   ]
  },
  {
   "cell_type": "code",
   "execution_count": 16,
   "metadata": {
    "collapsed": false
   },
   "outputs": [
    {
     "name": "stdout",
     "output_type": "stream",
     "text": [
      "['e1', 'l1', 'l2', 'e2', 'e3', 'l3']\n"
     ]
    }
   ],
   "source": [
    "print re.findall(\"[a-z][0-9]\",data)"
   ]
  },
  {
   "cell_type": "code",
   "execution_count": 17,
   "metadata": {
    "collapsed": false
   },
   "outputs": [
    {
     "name": "stdout",
     "output_type": "stream",
     "text": [
      "['e1', 'l1', 'l2', 'e2', 'e3', 'l3', 'E4', 'L4']\n"
     ]
    }
   ],
   "source": [
    "print re.findall(\"[a-zA-Z][0-9]\",data,)"
   ]
  },
  {
   "cell_type": "code",
   "execution_count": 18,
   "metadata": {
    "collapsed": false
   },
   "outputs": [
    {
     "name": "stdout",
     "output_type": "stream",
     "text": [
      "['78', '69', '08', '76', '54', '78', '69', '08', '76', '55', '78', '69', '08', '76', '56', '78', '69', '08', '76', '57']\n"
     ]
    }
   ],
   "source": [
    "print re.findall(\"[0-9]{2}\",data)"
   ]
  },
  {
   "cell_type": "code",
   "execution_count": 19,
   "metadata": {
    "collapsed": false
   },
   "outputs": [
    {
     "name": "stdout",
     "output_type": "stream",
     "text": [
      "['78690', '87654', '78690', '87655', '78690', '87656', '78690', '87657']\n"
     ]
    }
   ],
   "source": [
    "print re.findall(\"[0-9]{2,5}\",data)"
   ]
  },
  {
   "cell_type": "code",
   "execution_count": 20,
   "metadata": {
    "collapsed": false
   },
   "outputs": [
    {
     "name": "stdout",
     "output_type": "stream",
     "text": [
      "['1', '1', '1', '78690', '87654', '2', '2', '78690', '87655', '2', '78690', '87656', '3', '3', '3', '78690', '87657', '4', '4', '4']\n"
     ]
    }
   ],
   "source": [
    "print re.findall(\"[0-9]{1,5}\",data)"
   ]
  },
  {
   "cell_type": "code",
   "execution_count": 21,
   "metadata": {
    "collapsed": false
   },
   "outputs": [
    {
     "name": "stdout",
     "output_type": "stream",
     "text": [
      "['1', '', '', '', '', '', '1', '', '', '', '', '', '', '1', '', '', '', '', '', '', '', '', '', '', '', '7869087654', '', '2', '', '', '', '', '', '', '2', '', '', '', '', '', '', '', '', '', '', '', '7869087655', '', '', '', '', '', '2', '', '7869087656', '', '3', '', '', '', '', '', '3', '', '', '', '', '', '', '3', '', '', '', '', '', '', '', '', '', '', '', '7869087657', '', '4', '', '', '', '', '', '4', '', '', '', '', '', '', '4', '', '', '', '', '', '', '', '', '', '', '', '', '']\n"
     ]
    }
   ],
   "source": [
    "print re.findall(\"[0-9]*\",data)"
   ]
  },
  {
   "cell_type": "code",
   "execution_count": 22,
   "metadata": {
    "collapsed": false
   },
   "outputs": [
    {
     "name": "stdout",
     "output_type": "stream",
     "text": [
      "['1', '1', '1', '7869087654', '2', '2', '7869087655', '2', '7869087656', '3', '3', '3', '7869087657', '4', '4', '4']\n"
     ]
    }
   ],
   "source": [
    "print re.findall(\"[0-9]+\",data)"
   ]
  },
  {
   "cell_type": "code",
   "execution_count": 23,
   "metadata": {
    "collapsed": false
   },
   "outputs": [
    {
     "name": "stdout",
     "output_type": "stream",
     "text": [
      "['1', '', '', '', '', '', '1', '', '', '', '', '', '', '1', '', '', '', '', '', '', '', '', '', '', '', '7', '8', '6', '9', '0', '8', '7', '6', '5', '4', '', '2', '', '', '', '', '', '', '2', '', '', '', '', '', '', '', '', '', '', '', '7', '8', '6', '9', '0', '8', '7', '6', '5', '5', '', '', '', '', '', '2', '', '7', '8', '6', '9', '0', '8', '7', '6', '5', '6', '', '3', '', '', '', '', '', '3', '', '', '', '', '', '', '3', '', '', '', '', '', '', '', '', '', '', '', '7', '8', '6', '9', '0', '8', '7', '6', '5', '7', '', '4', '', '', '', '', '', '4', '', '', '', '', '', '', '4', '', '', '', '', '', '', '', '', '', '', '', '', '']\n"
     ]
    }
   ],
   "source": [
    "print re.findall(\"[0-9]?\",data)"
   ]
  },
  {
   "cell_type": "code",
   "execution_count": 24,
   "metadata": {
    "collapsed": false
   },
   "outputs": [
    {
     "data": {
      "text/plain": [
       "'1,name1,email1@gmail.com,7869087654\\n2,email2@yahoo.com,7869087655,name2\\n7869087656,3,name3,email3@redif.com\\n7869087657,4,NAME4,EMAIL4@redif.com\\n\\n'"
      ]
     },
     "execution_count": 24,
     "metadata": {},
     "output_type": "execute_result"
    }
   ],
   "source": [
    "data"
   ]
  },
  {
   "cell_type": "code",
   "execution_count": 25,
   "metadata": {
    "collapsed": false
   },
   "outputs": [
    {
     "name": "stdout",
     "output_type": "stream",
     "text": [
      "['1', ',', 'n', 'a', 'm', 'e', '1', ',', 'e', 'm', 'a', 'i', 'l', '1', '@', 'g', 'm', 'a', 'i', 'l', '.', 'c', 'o', 'm', ',', '7', '8', '6', '9', '0', '8', '7', '6', '5', '4', '2', ',', 'e', 'm', 'a', 'i', 'l', '2', '@', 'y', 'a', 'h', 'o', 'o', '.', 'c', 'o', 'm', ',', '7', '8', '6', '9', '0', '8', '7', '6', '5', '5', ',', 'n', 'a', 'm', 'e', '2', '7', '8', '6', '9', '0', '8', '7', '6', '5', '6', ',', '3', ',', 'n', 'a', 'm', 'e', '3', ',', 'e', 'm', 'a', 'i', 'l', '3', '@', 'r', 'e', 'd', 'i', 'f', '.', 'c', 'o', 'm', '7', '8', '6', '9', '0', '8', '7', '6', '5', '7', ',', '4', ',', 'N', 'A', 'M', 'E', '4', ',', 'E', 'M', 'A', 'I', 'L', '4', '@', 'r', 'e', 'd', 'i', 'f', '.', 'c', 'o', 'm']\n"
     ]
    }
   ],
   "source": [
    "print re.findall(\".\",data)"
   ]
  },
  {
   "cell_type": "code",
   "execution_count": 26,
   "metadata": {
    "collapsed": false
   },
   "outputs": [
    {
     "name": "stdout",
     "output_type": "stream",
     "text": [
      "['1', ',', 'n', 'a', 'm', 'e', '1', ',', 'e', 'm', 'a', 'i', 'l', '1', '@', 'g', 'm', 'a', 'i', 'l', '.', 'c', 'o', 'm', ',', '7', '8', '6', '9', '0', '8', '7', '6', '5', '4', '\\n', '2', ',', 'e', 'm', 'a', 'i', 'l', '2', '@', 'y', 'a', 'h', 'o', 'o', '.', 'c', 'o', 'm', ',', '7', '8', '6', '9', '0', '8', '7', '6', '5', '5', ',', 'n', 'a', 'm', 'e', '2', '\\n', '7', '8', '6', '9', '0', '8', '7', '6', '5', '6', ',', '3', ',', 'n', 'a', 'm', 'e', '3', ',', 'e', 'm', 'a', 'i', 'l', '3', '@', 'r', 'e', 'd', 'i', 'f', '.', 'c', 'o', 'm', '\\n', '7', '8', '6', '9', '0', '8', '7', '6', '5', '7', ',', '4', ',', 'N', 'A', 'M', 'E', '4', ',', 'E', 'M', 'A', 'I', 'L', '4', '@', 'r', 'e', 'd', 'i', 'f', '.', 'c', 'o', 'm', '\\n', '\\n']\n"
     ]
    }
   ],
   "source": [
    "print re.findall(\".\",data,re.DOTALL)"
   ]
  },
  {
   "cell_type": "code",
   "execution_count": 27,
   "metadata": {
    "collapsed": false
   },
   "outputs": [
    {
     "name": "stdout",
     "output_type": "stream",
     "text": [
      "['.', '.', '.', '.']\n"
     ]
    }
   ],
   "source": [
    "print re.findall(\"\\.\",data,re.DOTALL)"
   ]
  },
  {
   "cell_type": "code",
   "execution_count": 29,
   "metadata": {
    "collapsed": false
   },
   "outputs": [
    {
     "data": {
      "text/plain": [
       "'1,name1,email1@gmail.com,7869087654\\n2,email2@yahoo.com,7869087655,name2\\n7869087656,3,name3,email3@redif.com\\n7869087657,4,NAME4,EMAIL4@redif.com\\n7869087658,5,NAME5,EMAIL5@redif.co.in\\n\\n'"
      ]
     },
     "execution_count": 29,
     "metadata": {},
     "output_type": "execute_result"
    }
   ],
   "source": [
    "data = open(\"data2.txt\").read()\n",
    "data"
   ]
  },
  {
   "cell_type": "code",
   "execution_count": 31,
   "metadata": {
    "collapsed": false
   },
   "outputs": [
    {
     "data": {
      "text/plain": [
       "['email1@gmail.com',\n",
       " 'email2@yahoo.com',\n",
       " 'email3@redif.com',\n",
       " 'EMAIL4@redif.com',\n",
       " 'EMAIL5@redif.co.in']"
      ]
     },
     "execution_count": 31,
     "metadata": {},
     "output_type": "execute_result"
    }
   ],
   "source": [
    "re.findall(\"[a-z0-9]+@[a-z]+\\.[com]{2,3}\\.*[in]*\",data,re.I)"
   ]
  },
  {
   "cell_type": "code",
   "execution_count": 32,
   "metadata": {
    "collapsed": true
   },
   "outputs": [],
   "source": [
    "# re.match re.search\n",
    "re.match('[a-z0-9]+@[a-z]+\\.[com]{2,3}\\.*[in]*',data)"
   ]
  },
  {
   "cell_type": "code",
   "execution_count": 33,
   "metadata": {
    "collapsed": false
   },
   "outputs": [
    {
     "name": "stdout",
     "output_type": "stream",
     "text": [
      "1,name1,email1@gmail.com,7869087654\n",
      "2,email2@yahoo.com,7869087655,name2\n",
      "7869087656,3,name3,email3@redif.com\n",
      "7869087657,4,NAME4,EMAIL4@redif.com\n",
      "7869087658,5,NAME5,EMAIL5@redif.co.in\n",
      "\n",
      "\n"
     ]
    }
   ],
   "source": [
    "print data"
   ]
  },
  {
   "cell_type": "code",
   "execution_count": 34,
   "metadata": {
    "collapsed": false
   },
   "outputs": [
    {
     "data": {
      "text/plain": [
       "<_sre.SRE_Match at 0x7ff8603f34a8>"
      ]
     },
     "execution_count": 34,
     "metadata": {},
     "output_type": "execute_result"
    }
   ],
   "source": [
    "re.match(\"[0-9]\",data)"
   ]
  },
  {
   "cell_type": "code",
   "execution_count": 35,
   "metadata": {
    "collapsed": false
   },
   "outputs": [
    {
     "data": {
      "text/plain": [
       "<_sre.SRE_Match at 0x7ff8603f3510>"
      ]
     },
     "execution_count": 35,
     "metadata": {},
     "output_type": "execute_result"
    }
   ],
   "source": [
    "# re.match re.search\n",
    "re.search('[a-z0-9]+@[a-z]+\\.[com]{2,3}\\.*[in]*',data)"
   ]
  },
  {
   "cell_type": "code",
   "execution_count": 36,
   "metadata": {
    "collapsed": true
   },
   "outputs": [],
   "source": [
    "re.match(\"[0-9]{10}\",data)"
   ]
  },
  {
   "cell_type": "code",
   "execution_count": 37,
   "metadata": {
    "collapsed": false
   },
   "outputs": [
    {
     "data": {
      "text/plain": [
       "'1,name1,email1@gmail.com,7869087654\\n2,email2@yahoo.com,7869087655,name2\\n7869087656,3,name3,email3@redif.com\\n7869087657,4,NAME4,EMAIL4@redif.com\\n7869087658,5,NAME5,EMAIL5@redif.co.in\\n\\n'"
      ]
     },
     "execution_count": 37,
     "metadata": {},
     "output_type": "execute_result"
    }
   ],
   "source": [
    "data"
   ]
  },
  {
   "cell_type": "code",
   "execution_count": 38,
   "metadata": {
    "collapsed": true
   },
   "outputs": [],
   "source": [
    "re.match(\"[0-9]{10}\",data,re.M)"
   ]
  },
  {
   "cell_type": "code",
   "execution_count": 43,
   "metadata": {
    "collapsed": false
   },
   "outputs": [
    {
     "data": {
      "text/plain": [
       "[]"
      ]
     },
     "execution_count": 43,
     "metadata": {},
     "output_type": "execute_result"
    }
   ],
   "source": [
    "re.findall(\"^[0-9]{10}\",data)"
   ]
  },
  {
   "cell_type": "code",
   "execution_count": 42,
   "metadata": {
    "collapsed": false
   },
   "outputs": [
    {
     "data": {
      "text/plain": [
       "['7869087656', '7869087657', '7869087658']"
      ]
     },
     "execution_count": 42,
     "metadata": {},
     "output_type": "execute_result"
    }
   ],
   "source": [
    "re.findall(\"^[0-9]{10}\",data,re.M)"
   ]
  },
  {
   "cell_type": "code",
   "execution_count": 44,
   "metadata": {
    "collapsed": false
   },
   "outputs": [
    {
     "data": {
      "text/plain": [
       "['com', 'com', 'com', 'com']"
      ]
     },
     "execution_count": 44,
     "metadata": {},
     "output_type": "execute_result"
    }
   ],
   "source": [
    "re.findall(\"com\",data)"
   ]
  },
  {
   "cell_type": "code",
   "execution_count": 45,
   "metadata": {
    "collapsed": false
   },
   "outputs": [
    {
     "data": {
      "text/plain": [
       "[]"
      ]
     },
     "execution_count": 45,
     "metadata": {},
     "output_type": "execute_result"
    }
   ],
   "source": [
    "re.findall(\"com$\",data)"
   ]
  },
  {
   "cell_type": "code",
   "execution_count": 46,
   "metadata": {
    "collapsed": false
   },
   "outputs": [
    {
     "data": {
      "text/plain": [
       "['in\\n\\n']"
      ]
     },
     "execution_count": 46,
     "metadata": {},
     "output_type": "execute_result"
    }
   ],
   "source": [
    "re.findall(\"in\\n\\n$\",data)"
   ]
  },
  {
   "cell_type": "code",
   "execution_count": 48,
   "metadata": {
    "collapsed": false
   },
   "outputs": [
    {
     "data": {
      "text/plain": [
       "[]"
      ]
     },
     "execution_count": 48,
     "metadata": {},
     "output_type": "execute_result"
    }
   ],
   "source": [
    "re.findall(\"com$\",data)"
   ]
  },
  {
   "cell_type": "code",
   "execution_count": 49,
   "metadata": {
    "collapsed": false
   },
   "outputs": [
    {
     "data": {
      "text/plain": [
       "['com', 'com']"
      ]
     },
     "execution_count": 49,
     "metadata": {},
     "output_type": "execute_result"
    }
   ],
   "source": [
    "re.findall(\"com$\",data,re.M)"
   ]
  },
  {
   "cell_type": "code",
   "execution_count": 52,
   "metadata": {
    "collapsed": false
   },
   "outputs": [
    {
     "data": {
      "text/plain": [
       "['com', 'com']"
      ]
     },
     "execution_count": 52,
     "metadata": {},
     "output_type": "execute_result"
    }
   ],
   "source": [
    "re.findall(\"com$\",data,re.M)"
   ]
  },
  {
   "cell_type": "code",
   "execution_count": 51,
   "metadata": {
    "collapsed": false
   },
   "outputs": [
    {
     "data": {
      "text/plain": [
       "'1,name1,email1@gmail.com,7869087654\\n2,email2@yahoo.com,7869087655,name2\\n7869087656,3,name3,email3@redif.com\\n7869087657,4,NAME4,EMAIL4@redif.com\\n7869087658,5,NAME5,EMAIL5@redif.co.in\\n\\n'"
      ]
     },
     "execution_count": 51,
     "metadata": {},
     "output_type": "execute_result"
    }
   ],
   "source": [
    "data"
   ]
  },
  {
   "cell_type": "code",
   "execution_count": null,
   "metadata": {
    "collapsed": true
   },
   "outputs": [],
   "source": []
  }
 ],
 "metadata": {
  "kernelspec": {
   "display_name": "Python 2",
   "language": "python",
   "name": "python2"
  },
  "language_info": {
   "codemirror_mode": {
    "name": "ipython",
    "version": 2
   },
   "file_extension": ".py",
   "mimetype": "text/x-python",
   "name": "python",
   "nbconvert_exporter": "python",
   "pygments_lexer": "ipython2",
   "version": "2.7.11"
  }
 },
 "nbformat": 4,
 "nbformat_minor": 0
}
