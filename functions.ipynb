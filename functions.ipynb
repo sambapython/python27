{
 "cells": [
  {
   "cell_type": "code",
   "execution_count": 1,
   "metadata": {
    "collapsed": false
   },
   "outputs": [
    {
     "name": "stdout",
     "output_type": "stream",
     "text": [
      "starting statements\n",
      "ending statements\n"
     ]
    }
   ],
   "source": [
    "print \"starting statements\"\n",
    "def fun():\n",
    "    print \"sta1\"\n",
    "    print \"sta2\"\n",
    "    print \"sta3\"\n",
    "print \"ending statements\""
   ]
  },
  {
   "cell_type": "code",
   "execution_count": 2,
   "metadata": {
    "collapsed": false
   },
   "outputs": [
    {
     "name": "stdout",
     "output_type": "stream",
     "text": [
      "starting statements\n",
      "ending statements\n",
      "sta1\n",
      "sta2\n",
      "sta3\n",
      "program ended\n"
     ]
    }
   ],
   "source": [
    "print \"starting statements\"\n",
    "def fun():\n",
    "    print \"sta1\"\n",
    "    print \"sta2\"\n",
    "    print \"sta3\"\n",
    "print \"ending statements\"\n",
    "fun()\n",
    "print \"program ended\""
   ]
  },
  {
   "cell_type": "code",
   "execution_count": 3,
   "metadata": {
    "collapsed": false
   },
   "outputs": [
    {
     "name": "stdout",
     "output_type": "stream",
     "text": [
      "starting statements\n",
      "ending statements\n",
      "a=10, b=20\n",
      "program ended\n"
     ]
    }
   ],
   "source": [
    "print \"starting statements\"\n",
    "def fun(a,b):\n",
    "    print \"a=%s, b=%s\"%(a,b)\n",
    "print \"ending statements\"\n",
    "fun(10,20)\n",
    "print \"program ended\""
   ]
  },
  {
   "cell_type": "code",
   "execution_count": 4,
   "metadata": {
    "collapsed": false
   },
   "outputs": [
    {
     "name": "stdout",
     "output_type": "stream",
     "text": [
      "starting statements\n",
      "ending statements\n"
     ]
    },
    {
     "ename": "TypeError",
     "evalue": "fun() takes exactly 2 arguments (1 given)",
     "output_type": "error",
     "traceback": [
      "\u001b[1;31m---------------------------------------------------------------------------\u001b[0m",
      "\u001b[1;31mTypeError\u001b[0m                                 Traceback (most recent call last)",
      "\u001b[1;32m<ipython-input-4-22d62797cae0>\u001b[0m in \u001b[0;36m<module>\u001b[1;34m()\u001b[0m\n\u001b[0;32m      3\u001b[0m     \u001b[1;32mprint\u001b[0m \u001b[1;34m\"a=%s, b=%s\"\u001b[0m\u001b[1;33m%\u001b[0m\u001b[1;33m(\u001b[0m\u001b[0ma\u001b[0m\u001b[1;33m,\u001b[0m\u001b[0mb\u001b[0m\u001b[1;33m)\u001b[0m\u001b[1;33m\u001b[0m\u001b[0m\n\u001b[0;32m      4\u001b[0m \u001b[1;32mprint\u001b[0m \u001b[1;34m\"ending statements\"\u001b[0m\u001b[1;33m\u001b[0m\u001b[0m\n\u001b[1;32m----> 5\u001b[1;33m \u001b[0mfun\u001b[0m\u001b[1;33m(\u001b[0m\u001b[1;36m10\u001b[0m\u001b[1;33m)\u001b[0m\u001b[1;33m\u001b[0m\u001b[0m\n\u001b[0m\u001b[0;32m      6\u001b[0m \u001b[1;32mprint\u001b[0m \u001b[1;34m\"program ended\"\u001b[0m\u001b[1;33m\u001b[0m\u001b[0m\n",
      "\u001b[1;31mTypeError\u001b[0m: fun() takes exactly 2 arguments (1 given)"
     ]
    }
   ],
   "source": [
    "print \"starting statements\"\n",
    "def fun(a,b):\n",
    "    print \"a=%s, b=%s\"%(a,b)\n",
    "print \"ending statements\"\n",
    "fun(10)\n",
    "print \"program ended\""
   ]
  },
  {
   "cell_type": "code",
   "execution_count": 5,
   "metadata": {
    "collapsed": false
   },
   "outputs": [
    {
     "name": "stdout",
     "output_type": "stream",
     "text": [
      "starting statements\n",
      "ending statements\n",
      "a=10, b=20\n",
      "result= None\n",
      "program ended\n"
     ]
    }
   ],
   "source": [
    "print \"starting statements\"\n",
    "def fun(a,b):\n",
    "    print \"a=%s, b=%s\"%(a,b)\n",
    "print \"ending statements\"\n",
    "res = fun(10,20)\n",
    "print \"result=\",res\n",
    "print \"program ended\""
   ]
  },
  {
   "cell_type": "code",
   "execution_count": 6,
   "metadata": {
    "collapsed": false
   },
   "outputs": [
    {
     "name": "stdout",
     "output_type": "stream",
     "text": [
      "starting statements\n",
      "ending statements\n",
      "a=10, b=20\n",
      "result= return value\n",
      "program ended\n"
     ]
    }
   ],
   "source": [
    "print \"starting statements\"\n",
    "def fun(a,b):\n",
    "    print \"a=%s, b=%s\"%(a,b)\n",
    "    return \"return value\"\n",
    "print \"ending statements\"\n",
    "res = fun(10,20)\n",
    "print \"result=\",res\n",
    "print \"program ended\""
   ]
  },
  {
   "cell_type": "code",
   "execution_count": 7,
   "metadata": {
    "collapsed": false
   },
   "outputs": [
    {
     "name": "stdout",
     "output_type": "stream",
     "text": [
      "starting statements\n",
      "ending statements\n",
      "a=10, b=20\n",
      "a+b= 30\n",
      "result= return value\n",
      "program ended\n"
     ]
    }
   ],
   "source": [
    "print \"starting statements\"\n",
    "def add(a,b):\n",
    "    print \"a=%s, b=%s\"%(a,b)\n",
    "    print \"a+b=\",a+b\n",
    "    return \"return value\"\n",
    "print \"ending statements\"\n",
    "res = add(10,20)\n",
    "print \"result=\",res\n",
    "print \"program ended\""
   ]
  },
  {
   "cell_type": "code",
   "execution_count": 8,
   "metadata": {
    "collapsed": false
   },
   "outputs": [
    {
     "name": "stdout",
     "output_type": "stream",
     "text": [
      "starting statements\n",
      "ending statements\n",
      "a=10, b=20\n",
      "result= 30\n",
      "program ended\n"
     ]
    }
   ],
   "source": [
    "print \"starting statements\"\n",
    "def add(a,b):\n",
    "    print \"a=%s, b=%s\"%(a,b)\n",
    "    return a+b\n",
    "print \"ending statements\"\n",
    "res = add(10,20)\n",
    "print \"result=\",res\n",
    "print \"program ended\""
   ]
  },
  {
   "cell_type": "code",
   "execution_count": 9,
   "metadata": {
    "collapsed": false
   },
   "outputs": [
    {
     "name": "stdout",
     "output_type": "stream",
     "text": [
      "starting statements\n",
      "ending statements\n",
      "a=10, b=20\n",
      "a+b= 30\n",
      "result= return value\n"
     ]
    },
    {
     "ename": "TypeError",
     "evalue": "add() takes exactly 2 arguments (3 given)",
     "output_type": "error",
     "traceback": [
      "\u001b[1;31m---------------------------------------------------------------------------\u001b[0m",
      "\u001b[1;31mTypeError\u001b[0m                                 Traceback (most recent call last)",
      "\u001b[1;32m<ipython-input-9-a9cbf18386f8>\u001b[0m in \u001b[0;36m<module>\u001b[1;34m()\u001b[0m\n\u001b[0;32m      7\u001b[0m \u001b[0mres\u001b[0m \u001b[1;33m=\u001b[0m \u001b[0madd\u001b[0m\u001b[1;33m(\u001b[0m\u001b[1;36m10\u001b[0m\u001b[1;33m,\u001b[0m\u001b[1;36m20\u001b[0m\u001b[1;33m)\u001b[0m\u001b[1;33m\u001b[0m\u001b[0m\n\u001b[0;32m      8\u001b[0m \u001b[1;32mprint\u001b[0m \u001b[1;34m\"result=\"\u001b[0m\u001b[1;33m,\u001b[0m\u001b[0mres\u001b[0m\u001b[1;33m\u001b[0m\u001b[0m\n\u001b[1;32m----> 9\u001b[1;33m \u001b[0mres\u001b[0m \u001b[1;33m=\u001b[0m \u001b[0madd\u001b[0m\u001b[1;33m(\u001b[0m\u001b[1;36m10\u001b[0m\u001b[1;33m,\u001b[0m\u001b[1;36m20\u001b[0m\u001b[1;33m,\u001b[0m\u001b[1;36m30\u001b[0m\u001b[1;33m)\u001b[0m\u001b[1;33m\u001b[0m\u001b[0m\n\u001b[0m\u001b[0;32m     10\u001b[0m \u001b[1;32mprint\u001b[0m \u001b[1;34m\"result=\"\u001b[0m\u001b[1;33m,\u001b[0m\u001b[0mres\u001b[0m\u001b[1;33m\u001b[0m\u001b[0m\n\u001b[0;32m     11\u001b[0m \u001b[0mres\u001b[0m \u001b[1;33m=\u001b[0m \u001b[0madd\u001b[0m\u001b[1;33m(\u001b[0m\u001b[1;36m10\u001b[0m\u001b[1;33m,\u001b[0m\u001b[1;36m20\u001b[0m\u001b[1;33m,\u001b[0m\u001b[1;36m30\u001b[0m\u001b[1;33m,\u001b[0m\u001b[1;36m40\u001b[0m\u001b[1;33m)\u001b[0m\u001b[1;33m\u001b[0m\u001b[0m\n",
      "\u001b[1;31mTypeError\u001b[0m: add() takes exactly 2 arguments (3 given)"
     ]
    }
   ],
   "source": [
    "print \"starting statements\"\n",
    "def add(a,b):\n",
    "    print \"a=%s, b=%s\"%(a,b)\n",
    "    print \"a+b=\",a+b\n",
    "    return \"return value\"\n",
    "print \"ending statements\"\n",
    "res = add(10,20)\n",
    "print \"result=\",res\n",
    "res = add(10,20,30)\n",
    "print \"result=\",res\n",
    "res = add(10,20,30,40)\n",
    "print \"result=\",res\n",
    "res = add(10,20,30,50,40)\n",
    "print \"result=\",res\n",
    "print \"program ended\""
   ]
  },
  {
   "cell_type": "code",
   "execution_count": 10,
   "metadata": {
    "collapsed": false
   },
   "outputs": [
    {
     "name": "stdout",
     "output_type": "stream",
     "text": [
      "starting statements\n",
      "ending statements\n",
      "a=10, b=20, c=0, d=0, e=0\n",
      "result= 30\n",
      "a=10, b=20, c=30, d=0, e=0\n",
      "result= 60\n",
      "a=10, b=20, c=30, d=40, e=0\n",
      "result= 100\n",
      "a=10, b=20, c=30, d=50, e=40\n",
      "result= 150\n",
      "program ended\n"
     ]
    }
   ],
   "source": [
    "# default parameters\n",
    "print \"starting statements\"\n",
    "def add(a,b,c=0,d=0,e=0):\n",
    "    print \"a=%s, b=%s, c=%s, d=%s, e=%s\"%(a,b,c,d,e)\n",
    "    return a+b+c+d+e\n",
    "print \"ending statements\"\n",
    "res = add(10,20)\n",
    "print \"result=\",res\n",
    "res = add(10,20,30)\n",
    "print \"result=\",res\n",
    "res = add(10,20,30,40)\n",
    "print \"result=\",res\n",
    "res = add(10,20,30,50,40)\n",
    "print \"result=\",res\n",
    "print \"program ended\""
   ]
  },
  {
   "cell_type": "code",
   "execution_count": 11,
   "metadata": {
    "collapsed": false
   },
   "outputs": [
    {
     "name": "stdout",
     "output_type": "stream",
     "text": [
      "starting statements\n",
      "ending statements\n",
      "a=10, b=20, c=0, d=0, e=0\n",
      "result= 30\n",
      "a=10, b=20, c=30, d=0, e=0\n",
      "result= 60\n",
      "a=10, b=20, c=30, d=40, e=0\n",
      "result= 100\n",
      "a=10, b=20, c=30, d=50, e=40\n",
      "result= 150\n"
     ]
    },
    {
     "ename": "TypeError",
     "evalue": "add() takes at least 2 arguments (1 given)",
     "output_type": "error",
     "traceback": [
      "\u001b[1;31m---------------------------------------------------------------------------\u001b[0m",
      "\u001b[1;31mTypeError\u001b[0m                                 Traceback (most recent call last)",
      "\u001b[1;32m<ipython-input-11-e820d9098988>\u001b[0m in \u001b[0;36m<module>\u001b[1;34m()\u001b[0m\n\u001b[0;32m     13\u001b[0m \u001b[0mres\u001b[0m \u001b[1;33m=\u001b[0m \u001b[0madd\u001b[0m\u001b[1;33m(\u001b[0m\u001b[1;36m10\u001b[0m\u001b[1;33m,\u001b[0m\u001b[1;36m20\u001b[0m\u001b[1;33m,\u001b[0m\u001b[1;36m30\u001b[0m\u001b[1;33m,\u001b[0m\u001b[1;36m50\u001b[0m\u001b[1;33m,\u001b[0m\u001b[1;36m40\u001b[0m\u001b[1;33m)\u001b[0m\u001b[1;33m\u001b[0m\u001b[0m\n\u001b[0;32m     14\u001b[0m \u001b[1;32mprint\u001b[0m \u001b[1;34m\"result=\"\u001b[0m\u001b[1;33m,\u001b[0m\u001b[0mres\u001b[0m\u001b[1;33m\u001b[0m\u001b[0m\n\u001b[1;32m---> 15\u001b[1;33m \u001b[0mres\u001b[0m \u001b[1;33m=\u001b[0m \u001b[0madd\u001b[0m\u001b[1;33m(\u001b[0m\u001b[1;36m10\u001b[0m\u001b[1;33m)\u001b[0m\u001b[1;33m\u001b[0m\u001b[0m\n\u001b[0m\u001b[0;32m     16\u001b[0m \u001b[1;32mprint\u001b[0m \u001b[1;34m\"result=\"\u001b[0m\u001b[1;33m,\u001b[0m\u001b[0mres\u001b[0m\u001b[1;33m\u001b[0m\u001b[0m\n\u001b[0;32m     17\u001b[0m \u001b[1;32mprint\u001b[0m \u001b[1;34m\"program ended\"\u001b[0m\u001b[1;33m\u001b[0m\u001b[0m\n",
      "\u001b[1;31mTypeError\u001b[0m: add() takes at least 2 arguments (1 given)"
     ]
    }
   ],
   "source": [
    "# default parameters\n",
    "print \"starting statements\"\n",
    "def add(a,b,c=0,d=0,e=0):\n",
    "    print \"a=%s, b=%s, c=%s, d=%s, e=%s\"%(a,b,c,d,e)\n",
    "    return a+b+c+d+e\n",
    "print \"ending statements\"\n",
    "res = add(10,20)\n",
    "print \"result=\",res\n",
    "res = add(10,20,30)\n",
    "print \"result=\",res\n",
    "res = add(10,20,30,40)\n",
    "print \"result=\",res\n",
    "res = add(10,20,30,50,40)\n",
    "print \"result=\",res\n",
    "res = add(10)\n",
    "print \"result=\",res\n",
    "print \"program ended\""
   ]
  },
  {
   "cell_type": "code",
   "execution_count": 12,
   "metadata": {
    "collapsed": false
   },
   "outputs": [
    {
     "name": "stdout",
     "output_type": "stream",
     "text": [
      "starting statements\n",
      "ending statements\n",
      "a=10, b=20, c=0, d=0, e=0\n",
      "result= 30\n",
      "a=10, b=20, c=30, d=0, e=0\n",
      "result= 60\n",
      "a=10, b=20, c=30, d=40, e=0\n",
      "result= 100\n",
      "a=10, b=20, c=30, d=50, e=40\n",
      "result= 150\n"
     ]
    },
    {
     "ename": "TypeError",
     "evalue": "add() takes at most 5 arguments (6 given)",
     "output_type": "error",
     "traceback": [
      "\u001b[1;31m---------------------------------------------------------------------------\u001b[0m",
      "\u001b[1;31mTypeError\u001b[0m                                 Traceback (most recent call last)",
      "\u001b[1;32m<ipython-input-12-826cacb0a55b>\u001b[0m in \u001b[0;36m<module>\u001b[1;34m()\u001b[0m\n\u001b[0;32m     13\u001b[0m \u001b[0mres\u001b[0m \u001b[1;33m=\u001b[0m \u001b[0madd\u001b[0m\u001b[1;33m(\u001b[0m\u001b[1;36m10\u001b[0m\u001b[1;33m,\u001b[0m\u001b[1;36m20\u001b[0m\u001b[1;33m,\u001b[0m\u001b[1;36m30\u001b[0m\u001b[1;33m,\u001b[0m\u001b[1;36m50\u001b[0m\u001b[1;33m,\u001b[0m\u001b[1;36m40\u001b[0m\u001b[1;33m)\u001b[0m\u001b[1;33m\u001b[0m\u001b[0m\n\u001b[0;32m     14\u001b[0m \u001b[1;32mprint\u001b[0m \u001b[1;34m\"result=\"\u001b[0m\u001b[1;33m,\u001b[0m\u001b[0mres\u001b[0m\u001b[1;33m\u001b[0m\u001b[0m\n\u001b[1;32m---> 15\u001b[1;33m \u001b[0mres\u001b[0m \u001b[1;33m=\u001b[0m \u001b[0madd\u001b[0m\u001b[1;33m(\u001b[0m\u001b[1;36m10\u001b[0m\u001b[1;33m,\u001b[0m\u001b[1;36m20\u001b[0m\u001b[1;33m,\u001b[0m\u001b[1;36m30\u001b[0m\u001b[1;33m,\u001b[0m\u001b[1;36m40\u001b[0m\u001b[1;33m,\u001b[0m\u001b[1;36m50\u001b[0m\u001b[1;33m,\u001b[0m\u001b[1;36m60\u001b[0m\u001b[1;33m)\u001b[0m\u001b[1;33m\u001b[0m\u001b[0m\n\u001b[0m\u001b[0;32m     16\u001b[0m \u001b[1;32mprint\u001b[0m \u001b[1;34m\"result=\"\u001b[0m\u001b[1;33m,\u001b[0m\u001b[0mres\u001b[0m\u001b[1;33m\u001b[0m\u001b[0m\n\u001b[0;32m     17\u001b[0m \u001b[1;32mprint\u001b[0m \u001b[1;34m\"program ended\"\u001b[0m\u001b[1;33m\u001b[0m\u001b[0m\n",
      "\u001b[1;31mTypeError\u001b[0m: add() takes at most 5 arguments (6 given)"
     ]
    }
   ],
   "source": [
    "# default parameters\n",
    "print \"starting statements\"\n",
    "def add(a,b,c=0,d=0,e=0):\n",
    "    print \"a=%s, b=%s, c=%s, d=%s, e=%s\"%(a,b,c,d,e)\n",
    "    return a+b+c+d+e\n",
    "print \"ending statements\"\n",
    "res = add(10,20)\n",
    "print \"result=\",res\n",
    "res = add(10,20,30)\n",
    "print \"result=\",res\n",
    "res = add(10,20,30,40)\n",
    "print \"result=\",res\n",
    "res = add(10,20,30,50,40)\n",
    "print \"result=\",res\n",
    "res = add(10,20,30,40,50,60)\n",
    "print \"result=\",res\n",
    "print \"program ended\""
   ]
  },
  {
   "cell_type": "code",
   "execution_count": 13,
   "metadata": {
    "collapsed": false
   },
   "outputs": [
    {
     "name": "stdout",
     "output_type": "stream",
     "text": [
      "starting statements\n",
      "ending statements\n",
      "a=10, b=20, c=0, d=0, e=0\n",
      "result= 30\n",
      "a=10, b=20, c=0, d=30, e=0\n",
      "result= 60\n",
      "a=10, b=20, c=30, d=40, e=0\n",
      "result= 100\n",
      "a=10, b=20, c=30, d=50, e=40\n",
      "result= 150\n",
      "program ended\n"
     ]
    }
   ],
   "source": [
    "# default parameters\n",
    "print \"starting statements\"\n",
    "def add(a,b,c=0,d=0,e=0):\n",
    "    print \"a=%s, b=%s, c=%s, d=%s, e=%s\"%(a,b,c,d,e)\n",
    "    return a+b+c+d+e\n",
    "print \"ending statements\"\n",
    "res = add(10,20)\n",
    "print \"result=\",res\n",
    "res = add(10,20,0,30)\n",
    "print \"result=\",res\n",
    "res = add(10,20,30,40)\n",
    "print \"result=\",res\n",
    "res = add(10,20,30,50,40)\n",
    "print \"result=\",res\n",
    "print \"program ended\""
   ]
  },
  {
   "cell_type": "code",
   "execution_count": 14,
   "metadata": {
    "collapsed": false
   },
   "outputs": [
    {
     "name": "stdout",
     "output_type": "stream",
     "text": [
      "starting statements\n",
      "ending statements\n",
      "a=10, b=20, c=0, d=0, e=0\n",
      "result= 30\n",
      "a=10, b=20, c=0, d=30, e=0\n",
      "result= 60\n",
      "a=10, b=20, c=30, d=40, e=0\n",
      "result= 100\n",
      "a=10, b=20, c=30, d=50, e=40\n",
      "result= 150\n",
      "program ended\n"
     ]
    }
   ],
   "source": [
    "# default parameters\n",
    "print \"starting statements\"\n",
    "def add(a,b,c=0,d=0,e=0):\n",
    "    print \"a=%s, b=%s, c=%s, d=%s, e=%s\"%(a,b,c,d,e)\n",
    "    return a+b+c+d+e\n",
    "print \"ending statements\"\n",
    "res = add(10,20)\n",
    "print \"result=\",res\n",
    "res = add(10,20,d=30)\n",
    "print \"result=\",res\n",
    "res = add(10,20,30,40)\n",
    "print \"result=\",res\n",
    "res = add(10,20,30,50,40)\n",
    "print \"result=\",res\n",
    "print \"program ended\""
   ]
  },
  {
   "cell_type": "code",
   "execution_count": 15,
   "metadata": {
    "collapsed": false
   },
   "outputs": [
    {
     "name": "stdout",
     "output_type": "stream",
     "text": [
      "starting statements\n",
      "ending statements\n",
      "a=10, b=20, c=0, d=0, e=0\n",
      "result= 30\n",
      "a=10, b=20, c=0, d=30, e=0\n",
      "result= 60\n",
      "a=10, b=20, c=0, d=30, e=40\n",
      "result= 100\n"
     ]
    },
    {
     "ename": "TypeError",
     "evalue": "add() got an unexpected keyword argument 'f'",
     "output_type": "error",
     "traceback": [
      "\u001b[1;31m---------------------------------------------------------------------------\u001b[0m",
      "\u001b[1;31mTypeError\u001b[0m                                 Traceback (most recent call last)",
      "\u001b[1;32m<ipython-input-15-27d161be0b3b>\u001b[0m in \u001b[0;36m<module>\u001b[1;34m()\u001b[0m\n\u001b[0;32m     11\u001b[0m \u001b[0mres\u001b[0m \u001b[1;33m=\u001b[0m \u001b[0madd\u001b[0m\u001b[1;33m(\u001b[0m\u001b[1;36m10\u001b[0m\u001b[1;33m,\u001b[0m\u001b[1;36m20\u001b[0m\u001b[1;33m,\u001b[0m\u001b[0md\u001b[0m\u001b[1;33m=\u001b[0m\u001b[1;36m30\u001b[0m\u001b[1;33m,\u001b[0m\u001b[0me\u001b[0m\u001b[1;33m=\u001b[0m\u001b[1;36m40\u001b[0m\u001b[1;33m)\u001b[0m\u001b[1;33m\u001b[0m\u001b[0m\n\u001b[0;32m     12\u001b[0m \u001b[1;32mprint\u001b[0m \u001b[1;34m\"result=\"\u001b[0m\u001b[1;33m,\u001b[0m\u001b[0mres\u001b[0m\u001b[1;33m\u001b[0m\u001b[0m\n\u001b[1;32m---> 13\u001b[1;33m \u001b[0mres\u001b[0m \u001b[1;33m=\u001b[0m \u001b[0madd\u001b[0m\u001b[1;33m(\u001b[0m\u001b[1;36m10\u001b[0m\u001b[1;33m,\u001b[0m\u001b[1;36m20\u001b[0m\u001b[1;33m,\u001b[0m\u001b[0md\u001b[0m\u001b[1;33m=\u001b[0m\u001b[1;36m30\u001b[0m\u001b[1;33m,\u001b[0m\u001b[0me\u001b[0m\u001b[1;33m=\u001b[0m\u001b[1;36m50\u001b[0m\u001b[1;33m,\u001b[0m\u001b[0mc\u001b[0m\u001b[1;33m=\u001b[0m\u001b[1;36m40\u001b[0m\u001b[1;33m,\u001b[0m\u001b[0mf\u001b[0m\u001b[1;33m=\u001b[0m\u001b[1;36m70\u001b[0m\u001b[1;33m)\u001b[0m\u001b[1;33m\u001b[0m\u001b[0m\n\u001b[0m\u001b[0;32m     14\u001b[0m \u001b[1;32mprint\u001b[0m \u001b[1;34m\"result=\"\u001b[0m\u001b[1;33m,\u001b[0m\u001b[0mres\u001b[0m\u001b[1;33m\u001b[0m\u001b[0m\n\u001b[0;32m     15\u001b[0m \u001b[1;32mprint\u001b[0m \u001b[1;34m\"program ended\"\u001b[0m\u001b[1;33m\u001b[0m\u001b[0m\n",
      "\u001b[1;31mTypeError\u001b[0m: add() got an unexpected keyword argument 'f'"
     ]
    }
   ],
   "source": [
    "# default parameters\n",
    "print \"starting statements\"\n",
    "def add(a,b,c=0,d=0,e=0):\n",
    "    print \"a=%s, b=%s, c=%s, d=%s, e=%s\"%(a,b,c,d,e)\n",
    "    return a+b+c+d+e\n",
    "print \"ending statements\"\n",
    "res = add(10,20)\n",
    "print \"result=\",res\n",
    "res = add(10,20,d=30)\n",
    "print \"result=\",res\n",
    "res = add(10,20,d=30,e=40)\n",
    "print \"result=\",res\n",
    "res = add(10,20,d=30,e=50,c=40,f=70)\n",
    "print \"result=\",res\n",
    "print \"program ended\""
   ]
  },
  {
   "cell_type": "code",
   "execution_count": 16,
   "metadata": {
    "collapsed": false
   },
   "outputs": [
    {
     "name": "stdout",
     "output_type": "stream",
     "text": [
      "starting statements\n",
      "ending statements\n"
     ]
    }
   ],
   "source": [
    "# default parameters\n",
    "print \"starting statements\"\n",
    "def add(a,b,c=0,d=0,e=0):\n",
    "    '''\n",
    "    function to add 2-5 values\n",
    "    params: a,b,c,d,e: type int for all parameters\n",
    "    mandatory: a,b   optional parameters:c,d,e\n",
    "    default values of optional parameters: all zeros\n",
    "    '''\n",
    "    print \"a=%s, b=%s, c=%s, d=%s, e=%s\"%(a,b,c,d,e)\n",
    "    return a+b+c+d+e\n",
    "print \"ending statements\"\n"
   ]
  },
  {
   "cell_type": "code",
   "execution_count": 17,
   "metadata": {
    "collapsed": true
   },
   "outputs": [],
   "source": [
    "add?"
   ]
  },
  {
   "cell_type": "code",
   "execution_count": 18,
   "metadata": {
    "collapsed": false
   },
   "outputs": [
    {
     "name": "stdout",
     "output_type": "stream",
     "text": [
      "starting statements\n",
      "a=10, b=20, c=30, d=0, e=0\n",
      "res= 60\n",
      "ending statements\n"
     ]
    }
   ],
   "source": [
    "# default parameters\n",
    "print \"starting statements\"\n",
    "def add(a,b,c=0,d=0,e=0):\n",
    "    '''\n",
    "    function to add 2-5 values\n",
    "    params: a,b,c,d,e: type int for all parameters\n",
    "    mandatory: a,b   optional parameters:c,d,e\n",
    "    default values of optional parameters: all zeros\n",
    "    '''\n",
    "    print \"a=%s, b=%s, c=%s, d=%s, e=%s\"%(a,b,c,d,e)\n",
    "    return a+b+c+d+e\n",
    "res=add(10,20,30)\n",
    "print \"res=\",res\n",
    "res1=add\n",
    "#print \"res1=\",res1\n",
    "print \"ending statements\"\n"
   ]
  },
  {
   "cell_type": "code",
   "execution_count": 19,
   "metadata": {
    "collapsed": false
   },
   "outputs": [
    {
     "name": "stdout",
     "output_type": "stream",
     "text": [
      "starting statements\n",
      "a=10, b=20, c=30, d=0, e=0\n",
      "res= 60\n",
      "res1= <function add at 0x7f62d9077c08>\n",
      "ending statements\n"
     ]
    }
   ],
   "source": [
    "# default parameters\n",
    "print \"starting statements\"\n",
    "def add(a,b,c=0,d=0,e=0):\n",
    "    '''\n",
    "    function to add 2-5 values\n",
    "    params: a,b,c,d,e: type int for all parameters\n",
    "    mandatory: a,b   optional parameters:c,d,e\n",
    "    default values of optional parameters: all zeros\n",
    "    '''\n",
    "    print \"a=%s, b=%s, c=%s, d=%s, e=%s\"%(a,b,c,d,e)\n",
    "    return a+b+c+d+e\n",
    "res=add(10,20,30)\n",
    "print \"res=\",res\n",
    "res1=add\n",
    "print \"res1=\",res1\n",
    "print \"ending statements\"\n"
   ]
  },
  {
   "cell_type": "code",
   "execution_count": 20,
   "metadata": {
    "collapsed": false
   },
   "outputs": [
    {
     "name": "stdout",
     "output_type": "stream",
     "text": [
      "starting statements\n",
      "a=10, b=20, c=30, d=0, e=0\n",
      "res= 60\n",
      "res1= <function add at 0x7f62d9077c80>\n",
      "a=10, b=20, c=30, d=0, e=0\n",
      "result2= 60\n",
      "ending statements\n"
     ]
    }
   ],
   "source": [
    "# default parameters\n",
    "print \"starting statements\"\n",
    "def add(a,b,c=0,d=0,e=0):\n",
    "    '''\n",
    "    function to add 2-5 values\n",
    "    params: a,b,c,d,e: type int for all parameters\n",
    "    mandatory: a,b   optional parameters:c,d,e\n",
    "    default values of optional parameters: all zeros\n",
    "    '''\n",
    "    print \"a=%s, b=%s, c=%s, d=%s, e=%s\"%(a,b,c,d,e)\n",
    "    return a+b+c+d+e\n",
    "res=add(10,20,30)\n",
    "print \"res=\",res\n",
    "res1=add\n",
    "print \"res1=\",res1\n",
    "res2=res1(10,20,30)\n",
    "print \"result2=\",res2\n",
    "print \"ending statements\"\n"
   ]
  },
  {
   "cell_type": "code",
   "execution_count": 21,
   "metadata": {
    "collapsed": false
   },
   "outputs": [
    {
     "name": "stdout",
     "output_type": "stream",
     "text": [
      "starting statements\n",
      "30\n",
      "ending statements\n"
     ]
    }
   ],
   "source": [
    "# default parameters\n",
    "print \"starting statements\"\n",
    "def add(a,b):\n",
    "    return a+b\n",
    "def fun1(f):\n",
    "    print f(10,20)\n",
    "fun1(add)\n",
    "\n",
    "print \"ending statements\"\n"
   ]
  },
  {
   "cell_type": "code",
   "execution_count": 22,
   "metadata": {
    "collapsed": false
   },
   "outputs": [
    {
     "name": "stdout",
     "output_type": "stream",
     "text": [
      "starting statements\n",
      "30\n",
      "300\n",
      "ending statements\n"
     ]
    }
   ],
   "source": [
    "# default parameters\n",
    "print \"starting statements\"\n",
    "def add(a,b):\n",
    "    return a+b\n",
    "def fun1(f):\n",
    "    print f(10,20)\n",
    "fun1(add)\n",
    "f1=add\n",
    "print f1(100,200)\n",
    "print \"ending statements\"\n"
   ]
  },
  {
   "cell_type": "code",
   "execution_count": 24,
   "metadata": {
    "collapsed": false
   },
   "outputs": [
    {
     "name": "stdout",
     "output_type": "stream",
     "text": [
      "starting statements\n",
      "10\n",
      "ending statements\n"
     ]
    }
   ],
   "source": [
    "# scope\n",
    "print \"starting statements\"\n",
    "a=10\n",
    "def fun1():\n",
    "    print a\n",
    "fun1()\n",
    "print \"ending statements\"\n"
   ]
  },
  {
   "cell_type": "code",
   "execution_count": 25,
   "metadata": {
    "collapsed": false
   },
   "outputs": [
    {
     "name": "stdout",
     "output_type": "stream",
     "text": [
      "starting statements\n",
      "200\n",
      "a123="
     ]
    },
    {
     "ename": "NameError",
     "evalue": "name 'a123' is not defined",
     "output_type": "error",
     "traceback": [
      "\u001b[1;31m---------------------------------------------------------------------------\u001b[0m",
      "\u001b[1;31mNameError\u001b[0m                                 Traceback (most recent call last)",
      "\u001b[1;32m<ipython-input-25-eeca27e9136d>\u001b[0m in \u001b[0;36m<module>\u001b[1;34m()\u001b[0m\n\u001b[0;32m      5\u001b[0m     \u001b[1;32mprint\u001b[0m \u001b[0ma123\u001b[0m\u001b[1;33m\u001b[0m\u001b[0m\n\u001b[0;32m      6\u001b[0m \u001b[0mfun1\u001b[0m\u001b[1;33m(\u001b[0m\u001b[1;33m)\u001b[0m\u001b[1;33m\u001b[0m\u001b[0m\n\u001b[1;32m----> 7\u001b[1;33m \u001b[1;32mprint\u001b[0m \u001b[1;34m\"a123=\"\u001b[0m\u001b[1;33m,\u001b[0m\u001b[0ma123\u001b[0m\u001b[1;33m\u001b[0m\u001b[0m\n\u001b[0m\u001b[0;32m      8\u001b[0m \u001b[1;32mprint\u001b[0m \u001b[1;34m\"ending statements\"\u001b[0m\u001b[1;33m\u001b[0m\u001b[0m\n",
      "\u001b[1;31mNameError\u001b[0m: name 'a123' is not defined"
     ]
    }
   ],
   "source": [
    "# scope\n",
    "print \"starting statements\"\n",
    "def fun1():\n",
    "    a123=200\n",
    "    print a123\n",
    "fun1()\n",
    "print \"a123=\",a123\n",
    "print \"ending statements\"\n"
   ]
  },
  {
   "cell_type": "code",
   "execution_count": 26,
   "metadata": {
    "collapsed": false
   },
   "outputs": [
    {
     "name": "stdout",
     "output_type": "stream",
     "text": [
      " starting statements\n",
      "a inside function: 1000\n",
      "a out side function 100\n",
      "ending statements\n"
     ]
    }
   ],
   "source": [
    "# scope\n",
    "print \"starting statements\"\n",
    "a=100\n",
    "def fun1():\n",
    "    a=1000\n",
    "    print \"a inside function:\",a\n",
    "fun1()\n",
    "print \"a out side function\",a\n",
    "print \"ending statements\"\n"
   ]
  },
  {
   "cell_type": "code",
   "execution_count": 27,
   "metadata": {
    "collapsed": false
   },
   "outputs": [
    {
     "name": "stdout",
     "output_type": "stream",
     "text": [
      "starting statements\n",
      "b inside function: 1100\n",
      "a out side function 100\n",
      "ending statements\n"
     ]
    }
   ],
   "source": [
    "# scope\n",
    "print \"starting statements\"\n",
    "a=100\n",
    "def fun1():\n",
    "    b=a+1000\n",
    "    print \"b inside function:\",b\n",
    "fun1()\n",
    "print \"a out side function\",a\n",
    "print \"ending statements\"\n"
   ]
  },
  {
   "cell_type": "code",
   "execution_count": 31,
   "metadata": {
    "collapsed": false
   },
   "outputs": [
    {
     "name": "stdout",
     "output_type": "stream",
     "text": [
      "starting statements\n"
     ]
    },
    {
     "ename": "UnboundLocalError",
     "evalue": "local variable 'a' referenced before assignment",
     "output_type": "error",
     "traceback": [
      "\u001b[1;31m---------------------------------------------------------------------------\u001b[0m",
      "\u001b[1;31mUnboundLocalError\u001b[0m                         Traceback (most recent call last)",
      "\u001b[1;32m<ipython-input-31-f892bd91f611>\u001b[0m in \u001b[0;36m<module>\u001b[1;34m()\u001b[0m\n\u001b[0;32m      5\u001b[0m     \u001b[0ma\u001b[0m\u001b[1;33m=\u001b[0m\u001b[0ma\u001b[0m\u001b[1;33m+\u001b[0m\u001b[1;36m1000\u001b[0m\u001b[1;33m\u001b[0m\u001b[0m\n\u001b[0;32m      6\u001b[0m     \u001b[1;32mprint\u001b[0m \u001b[1;34m\"b inside function:\"\u001b[0m\u001b[1;33m,\u001b[0m\u001b[0ma\u001b[0m\u001b[1;33m\u001b[0m\u001b[0m\n\u001b[1;32m----> 7\u001b[1;33m \u001b[0mfun1\u001b[0m\u001b[1;33m(\u001b[0m\u001b[1;33m)\u001b[0m\u001b[1;33m\u001b[0m\u001b[0m\n\u001b[0m\u001b[0;32m      8\u001b[0m \u001b[1;32mprint\u001b[0m \u001b[1;34m\"a out side function\"\u001b[0m\u001b[1;33m,\u001b[0m\u001b[0ma\u001b[0m\u001b[1;33m\u001b[0m\u001b[0m\n\u001b[0;32m      9\u001b[0m \u001b[1;32mprint\u001b[0m \u001b[1;34m\"ending statements\"\u001b[0m\u001b[1;33m\u001b[0m\u001b[0m\n",
      "\u001b[1;32m<ipython-input-31-f892bd91f611>\u001b[0m in \u001b[0;36mfun1\u001b[1;34m()\u001b[0m\n\u001b[0;32m      3\u001b[0m \u001b[0ma\u001b[0m\u001b[1;33m=\u001b[0m\u001b[1;36m100\u001b[0m\u001b[1;33m\u001b[0m\u001b[0m\n\u001b[0;32m      4\u001b[0m \u001b[1;32mdef\u001b[0m \u001b[0mfun1\u001b[0m\u001b[1;33m(\u001b[0m\u001b[1;33m)\u001b[0m\u001b[1;33m:\u001b[0m\u001b[1;33m\u001b[0m\u001b[0m\n\u001b[1;32m----> 5\u001b[1;33m     \u001b[0ma\u001b[0m\u001b[1;33m=\u001b[0m\u001b[0ma\u001b[0m\u001b[1;33m+\u001b[0m\u001b[1;36m1000\u001b[0m\u001b[1;33m\u001b[0m\u001b[0m\n\u001b[0m\u001b[0;32m      6\u001b[0m     \u001b[1;32mprint\u001b[0m \u001b[1;34m\"b inside function:\"\u001b[0m\u001b[1;33m,\u001b[0m\u001b[0ma\u001b[0m\u001b[1;33m\u001b[0m\u001b[0m\n\u001b[0;32m      7\u001b[0m \u001b[0mfun1\u001b[0m\u001b[1;33m(\u001b[0m\u001b[1;33m)\u001b[0m\u001b[1;33m\u001b[0m\u001b[0m\n",
      "\u001b[1;31mUnboundLocalError\u001b[0m: local variable 'a' referenced before assignment"
     ]
    }
   ],
   "source": [
    "# scope\n",
    "print \"starting statements\"\n",
    "a=100\n",
    "def fun1():\n",
    "    a=a+1000\n",
    "    print \"b inside function:\",a\n",
    "fun1()\n",
    "print \"a out side function\",a\n",
    "print \"ending statements\"\n"
   ]
  },
  {
   "cell_type": "code",
   "execution_count": 30,
   "metadata": {
    "collapsed": false
   },
   "outputs": [
    {
     "name": "stdout",
     "output_type": "stream",
     "text": [
      " starting statements\n",
      "b inside function: 1000\n",
      "a out side function 100\n",
      "ending statements\n"
     ]
    }
   ],
   "source": [
    "\n",
    "# scope\n",
    "print \"starting statements\"\n",
    "a=100\n",
    "def fun1():\n",
    "    a=1000\n",
    "    print \"b inside function:\",a\n",
    "fun1()\n",
    "print \"a out side function\",a\n",
    "print \"ending statements\"\n"
   ]
  },
  {
   "cell_type": "code",
   "execution_count": 32,
   "metadata": {
    "collapsed": false
   },
   "outputs": [
    {
     "name": "stdout",
     "output_type": "stream",
     "text": [
      "starting statements\n",
      "b inside function: 1100\n",
      "a out side function 100\n",
      "ending statements\n"
     ]
    }
   ],
   "source": [
    "# scope\n",
    "print \"starting statements\"\n",
    "a=100\n",
    "def fun1():\n",
    "    b=a+1000\n",
    "    print \"b inside function:\",b\n",
    "fun1()\n",
    "print \"a out side function\",a\n",
    "print \"ending statements\"\n"
   ]
  },
  {
   "cell_type": "code",
   "execution_count": 33,
   "metadata": {
    "collapsed": false
   },
   "outputs": [
    {
     "name": "stdout",
     "output_type": "stream",
     "text": [
      "starting statements\n"
     ]
    },
    {
     "ename": "UnboundLocalError",
     "evalue": "local variable 'a' referenced before assignment",
     "output_type": "error",
     "traceback": [
      "\u001b[1;31m---------------------------------------------------------------------------\u001b[0m",
      "\u001b[1;31mUnboundLocalError\u001b[0m                         Traceback (most recent call last)",
      "\u001b[1;32m<ipython-input-33-cc8832e75d2c>\u001b[0m in \u001b[0;36m<module>\u001b[1;34m()\u001b[0m\n\u001b[0;32m      5\u001b[0m     \u001b[0ma\u001b[0m\u001b[1;33m=\u001b[0m\u001b[0ma\u001b[0m\u001b[1;33m+\u001b[0m\u001b[1;36m1000\u001b[0m\u001b[1;33m\u001b[0m\u001b[0m\n\u001b[0;32m      6\u001b[0m     \u001b[1;32mprint\u001b[0m \u001b[1;34m\"b inside function:\"\u001b[0m\u001b[1;33m,\u001b[0m\u001b[0mb\u001b[0m\u001b[1;33m\u001b[0m\u001b[0m\n\u001b[1;32m----> 7\u001b[1;33m \u001b[0mfun1\u001b[0m\u001b[1;33m(\u001b[0m\u001b[1;33m)\u001b[0m\u001b[1;33m\u001b[0m\u001b[0m\n\u001b[0m\u001b[0;32m      8\u001b[0m \u001b[1;32mprint\u001b[0m \u001b[1;34m\"a out side function\"\u001b[0m\u001b[1;33m,\u001b[0m\u001b[0ma\u001b[0m\u001b[1;33m\u001b[0m\u001b[0m\n\u001b[0;32m      9\u001b[0m \u001b[1;32mprint\u001b[0m \u001b[1;34m\"ending statements\"\u001b[0m\u001b[1;33m\u001b[0m\u001b[0m\n",
      "\u001b[1;32m<ipython-input-33-cc8832e75d2c>\u001b[0m in \u001b[0;36mfun1\u001b[1;34m()\u001b[0m\n\u001b[0;32m      3\u001b[0m \u001b[0ma\u001b[0m\u001b[1;33m=\u001b[0m\u001b[1;36m100\u001b[0m\u001b[1;33m\u001b[0m\u001b[0m\n\u001b[0;32m      4\u001b[0m \u001b[1;32mdef\u001b[0m \u001b[0mfun1\u001b[0m\u001b[1;33m(\u001b[0m\u001b[1;33m)\u001b[0m\u001b[1;33m:\u001b[0m\u001b[1;33m\u001b[0m\u001b[0m\n\u001b[1;32m----> 5\u001b[1;33m     \u001b[0ma\u001b[0m\u001b[1;33m=\u001b[0m\u001b[0ma\u001b[0m\u001b[1;33m+\u001b[0m\u001b[1;36m1000\u001b[0m\u001b[1;33m\u001b[0m\u001b[0m\n\u001b[0m\u001b[0;32m      6\u001b[0m     \u001b[1;32mprint\u001b[0m \u001b[1;34m\"b inside function:\"\u001b[0m\u001b[1;33m,\u001b[0m\u001b[0mb\u001b[0m\u001b[1;33m\u001b[0m\u001b[0m\n\u001b[0;32m      7\u001b[0m \u001b[0mfun1\u001b[0m\u001b[1;33m(\u001b[0m\u001b[1;33m)\u001b[0m\u001b[1;33m\u001b[0m\u001b[0m\n",
      "\u001b[1;31mUnboundLocalError\u001b[0m: local variable 'a' referenced before assignment"
     ]
    }
   ],
   "source": [
    "# scope\n",
    "print \"starting statements\"\n",
    "a=100\n",
    "def fun1():\n",
    "    a=a+1000\n",
    "    print \"b inside function:\",b\n",
    "fun1()\n",
    "print \"a out side function\",a\n",
    "print \"ending statements\"\n"
   ]
  },
  {
   "cell_type": "code",
   "execution_count": 34,
   "metadata": {
    "collapsed": false
   },
   "outputs": [
    {
     "name": "stdout",
     "output_type": "stream",
     "text": [
      "starting statements\n",
      "a inside function: 1000\n",
      "a out side function 100\n",
      "ending statements\n"
     ]
    }
   ],
   "source": [
    "# scope\n",
    "print \"starting statements\"\n",
    "a=100\n",
    "def fun1():\n",
    "    a=1000\n",
    "    print \"a inside function:\",a\n",
    "fun1()\n",
    "print \"a out side function\",a\n",
    "print \"ending statements\"\n"
   ]
  },
  {
   "cell_type": "code",
   "execution_count": 35,
   "metadata": {
    "collapsed": false
   },
   "outputs": [
    {
     "name": "stdout",
     "output_type": "stream",
     "text": [
      "starting statements\n",
      "a inside function: 1000\n",
      "a out side function 1000\n",
      "ending statements\n"
     ]
    }
   ],
   "source": [
    "# scope\n",
    "print \"starting statements\"\n",
    "a=100\n",
    "def fun1():\n",
    "    global a\n",
    "    a=1000\n",
    "    print \"a inside function:\",a\n",
    "fun1()\n",
    "print \"a out side function\",a\n",
    "print \"ending statements\"\n"
   ]
  },
  {
   "cell_type": "code",
   "execution_count": 36,
   "metadata": {
    "collapsed": false
   },
   "outputs": [
    {
     "ename": "SyntaxError",
     "evalue": "invalid syntax (<ipython-input-36-4bdf6dd75361>, line 5)",
     "output_type": "error",
     "traceback": [
      "\u001b[1;36m  File \u001b[1;32m\"<ipython-input-36-4bdf6dd75361>\"\u001b[1;36m, line \u001b[1;32m5\u001b[0m\n\u001b[1;33m    global a = 1000\u001b[0m\n\u001b[1;37m             ^\u001b[0m\n\u001b[1;31mSyntaxError\u001b[0m\u001b[1;31m:\u001b[0m invalid syntax\n"
     ]
    }
   ],
   "source": [
    "# scope\n",
    "print \"starting statements\"\n",
    "a=100\n",
    "def fun1():\n",
    "    global a = 1000\n",
    "    a=1000\n",
    "    print \"a inside function:\",a\n",
    "fun1()\n",
    "print \"a out side function\",a\n",
    "print \"ending statements\"\n"
   ]
  },
  {
   "cell_type": "code",
   "execution_count": null,
   "metadata": {
    "collapsed": true
   },
   "outputs": [],
   "source": []
  }
 ],
 "metadata": {
  "kernelspec": {
   "display_name": "Python 2",
   "language": "python",
   "name": "python2"
  },
  "language_info": {
   "codemirror_mode": {
    "name": "ipython",
    "version": 2
   },
   "file_extension": ".py",
   "mimetype": "text/x-python",
   "name": "python",
   "nbconvert_exporter": "python",
   "pygments_lexer": "ipython2",
   "version": "2.7.11"
  }
 },
 "nbformat": 4,
 "nbformat_minor": 0
}
