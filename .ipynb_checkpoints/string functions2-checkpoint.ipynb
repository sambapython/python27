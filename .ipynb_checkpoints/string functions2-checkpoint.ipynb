{
 "cells": [
  {
   "cell_type": "code",
   "execution_count": 1,
   "metadata": {
    "collapsed": false
   },
   "outputs": [
    {
     "data": {
      "text/plain": [
       "'Python program'"
      ]
     },
     "execution_count": 1,
     "metadata": {},
     "output_type": "execute_result"
    }
   ],
   "source": [
    "\n",
    "\"python program\".capitalize()"
   ]
  },
  {
   "cell_type": "code",
   "execution_count": 2,
   "metadata": {
    "collapsed": false
   },
   "outputs": [
    {
     "data": {
      "text/plain": [
       "'Python program'"
      ]
     },
     "execution_count": 2,
     "metadata": {},
     "output_type": "execute_result"
    }
   ],
   "source": [
    "\"pYTHOn Program\".capitalize()"
   ]
  },
  {
   "cell_type": "code",
   "execution_count": 3,
   "metadata": {
    "collapsed": false
   },
   "outputs": [
    {
     "data": {
      "text/plain": [
       "'1abc def'"
      ]
     },
     "execution_count": 3,
     "metadata": {},
     "output_type": "execute_result"
    }
   ],
   "source": [
    "\"1abc def\".capitalize()"
   ]
  },
  {
   "cell_type": "code",
   "execution_count": 4,
   "metadata": {
    "collapsed": false
   },
   "outputs": [
    {
     "data": {
      "text/plain": [
       "'123'"
      ]
     },
     "execution_count": 4,
     "metadata": {},
     "output_type": "execute_result"
    }
   ],
   "source": [
    "\"123\".capitalize()"
   ]
  },
  {
   "cell_type": "code",
   "execution_count": 5,
   "metadata": {
    "collapsed": false
   },
   "outputs": [
    {
     "data": {
      "text/plain": [
       "'@#$%'"
      ]
     },
     "execution_count": 5,
     "metadata": {},
     "output_type": "execute_result"
    }
   ],
   "source": [
    "\"@#$%\".capitalize()"
   ]
  },
  {
   "cell_type": "code",
   "execution_count": 6,
   "metadata": {
    "collapsed": false
   },
   "outputs": [
    {
     "data": {
      "text/plain": [
       "True"
      ]
     },
     "execution_count": 6,
     "metadata": {},
     "output_type": "execute_result"
    }
   ],
   "source": [
    "# SCE1: find out given string contains all capital letters or not?.\n",
    "\"ABCD\".isupper()"
   ]
  },
  {
   "cell_type": "code",
   "execution_count": 7,
   "metadata": {
    "collapsed": false
   },
   "outputs": [
    {
     "data": {
      "text/plain": [
       "False"
      ]
     },
     "execution_count": 7,
     "metadata": {},
     "output_type": "execute_result"
    }
   ],
   "source": [
    "\"aBc\".isupper()"
   ]
  },
  {
   "cell_type": "code",
   "execution_count": 8,
   "metadata": {
    "collapsed": false
   },
   "outputs": [
    {
     "data": {
      "text/plain": [
       "False"
      ]
     },
     "execution_count": 8,
     "metadata": {},
     "output_type": "execute_result"
    }
   ],
   "source": [
    "\"Abc\".isupper()"
   ]
  },
  {
   "cell_type": "code",
   "execution_count": 9,
   "metadata": {
    "collapsed": false
   },
   "outputs": [
    {
     "data": {
      "text/plain": [
       "False"
      ]
     },
     "execution_count": 9,
     "metadata": {},
     "output_type": "execute_result"
    }
   ],
   "source": [
    "\"1234\".isupper()"
   ]
  },
  {
   "cell_type": "code",
   "execution_count": 10,
   "metadata": {
    "collapsed": false
   },
   "outputs": [
    {
     "data": {
      "text/plain": [
       "True"
      ]
     },
     "execution_count": 10,
     "metadata": {},
     "output_type": "execute_result"
    }
   ],
   "source": [
    "\"123ABC\".isupper()"
   ]
  },
  {
   "cell_type": "code",
   "execution_count": 11,
   "metadata": {
    "collapsed": false
   },
   "outputs": [
    {
     "data": {
      "text/plain": [
       "False"
      ]
     },
     "execution_count": 11,
     "metadata": {},
     "output_type": "execute_result"
    }
   ],
   "source": [
    "\"1234\".isupper()"
   ]
  },
  {
   "cell_type": "code",
   "execution_count": 12,
   "metadata": {
    "collapsed": false
   },
   "outputs": [
    {
     "data": {
      "text/plain": [
       "False"
      ]
     },
     "execution_count": 12,
     "metadata": {},
     "output_type": "execute_result"
    }
   ],
   "source": [
    "\"1234asd\".isupper()"
   ]
  },
  {
   "cell_type": "code",
   "execution_count": 13,
   "metadata": {
    "collapsed": false
   },
   "outputs": [
    {
     "data": {
      "text/plain": [
       "True"
      ]
     },
     "execution_count": 13,
     "metadata": {},
     "output_type": "execute_result"
    }
   ],
   "source": [
    "\"123\".isdigit()"
   ]
  },
  {
   "cell_type": "code",
   "execution_count": 14,
   "metadata": {
    "collapsed": false
   },
   "outputs": [
    {
     "data": {
      "text/plain": [
       "False"
      ]
     },
     "execution_count": 14,
     "metadata": {},
     "output_type": "execute_result"
    }
   ],
   "source": [
    "\"123abc\".isdigit()"
   ]
  },
  {
   "cell_type": "code",
   "execution_count": 15,
   "metadata": {
    "collapsed": false
   },
   "outputs": [
    {
     "data": {
      "text/plain": [
       "False"
      ]
     },
     "execution_count": 15,
     "metadata": {},
     "output_type": "execute_result"
    }
   ],
   "source": [
    "\"12345@\".isdigit()"
   ]
  },
  {
   "cell_type": "code",
   "execution_count": 16,
   "metadata": {
    "collapsed": false
   },
   "outputs": [
    {
     "data": {
      "text/plain": [
       "False"
      ]
     },
     "execution_count": 16,
     "metadata": {},
     "output_type": "execute_result"
    }
   ],
   "source": [
    "\"123\".isalpha()"
   ]
  },
  {
   "cell_type": "code",
   "execution_count": 18,
   "metadata": {
    "collapsed": false
   },
   "outputs": [
    {
     "data": {
      "text/plain": [
       "True"
      ]
     },
     "execution_count": 18,
     "metadata": {},
     "output_type": "execute_result"
    }
   ],
   "source": [
    "\"qwQWRE\".isalpha()"
   ]
  },
  {
   "cell_type": "code",
   "execution_count": 19,
   "metadata": {
    "collapsed": false
   },
   "outputs": [
    {
     "data": {
      "text/plain": [
       "False"
      ]
     },
     "execution_count": 19,
     "metadata": {},
     "output_type": "execute_result"
    }
   ],
   "source": [
    "\"qwr@\".isalpha()"
   ]
  },
  {
   "cell_type": "code",
   "execution_count": 20,
   "metadata": {
    "collapsed": false
   },
   "outputs": [
    {
     "data": {
      "text/plain": [
       "True"
      ]
     },
     "execution_count": 20,
     "metadata": {},
     "output_type": "execute_result"
    }
   ],
   "source": [
    "\"123AMV\".isupper()"
   ]
  },
  {
   "cell_type": "code",
   "execution_count": 22,
   "metadata": {
    "collapsed": false
   },
   "outputs": [
    {
     "name": "stdout",
     "output_type": "stream",
     "text": [
      "Enter string:ASDF\n",
      "contains all capital letters\n"
     ]
    }
   ],
   "source": [
    "a=raw_input(\"Enter string:\")\n",
    "if a.isalpha():\n",
    "    if a.isupper():\n",
    "        print \"contains all capital letters\"\n",
    "    else:\n",
    "        print \"All letters are not capital letters\"\n",
    "else:\n",
    "    print \"this mix of other chars\"\n"
   ]
  },
  {
   "cell_type": "code",
   "execution_count": 23,
   "metadata": {
    "collapsed": false
   },
   "outputs": [
    {
     "name": "stdout",
     "output_type": "stream",
     "text": [
      "Enter string:qwe#$%\n",
      "this mix of other chars\n"
     ]
    }
   ],
   "source": [
    "a=raw_input(\"Enter string:\")\n",
    "if a.isalpha():\n",
    "    if a.isupper():\n",
    "        print \"contains all capital letters\"\n",
    "    else:\n",
    "        print \"All letters are not capital letters\"\n",
    "else:\n",
    "    print \"this mix of other chars\"\n"
   ]
  },
  {
   "cell_type": "code",
   "execution_count": 24,
   "metadata": {
    "collapsed": false
   },
   "outputs": [
    {
     "name": "stdout",
     "output_type": "stream",
     "text": [
      "Enter string:1234\n",
      "this mix of other chars\n"
     ]
    }
   ],
   "source": [
    "a=raw_input(\"Enter string:\")\n",
    "if a.isalpha():\n",
    "    if a.isupper():\n",
    "        print \"contains all capital letters\"\n",
    "    else:\n",
    "        print \"All letters are not capital letters\"\n",
    "else:\n",
    "    print \"this mix of other chars\"\n"
   ]
  },
  {
   "cell_type": "code",
   "execution_count": 25,
   "metadata": {
    "collapsed": false
   },
   "outputs": [
    {
     "name": "stdout",
     "output_type": "stream",
     "text": [
      "Enter string:123WERT\n",
      "this mix of other chars\n"
     ]
    }
   ],
   "source": [
    "# check the given string contains all caps or not\n",
    "a=raw_input(\"Enter string:\")\n",
    "if a.isalpha():\n",
    "    if a.isupper():\n",
    "        print \"contains all capital letters\"\n",
    "    else:\n",
    "        print \"All letters are not capital letters\"\n",
    "else:\n",
    "    print \"this mix of other chars\"\n"
   ]
  },
  {
   "cell_type": "code",
   "execution_count": null,
   "metadata": {
    "collapsed": true
   },
   "outputs": [],
   "source": [
    "# check the given string contains at least one capital letter or not.\n",
    "a=raw_input(\"Enter string:\")\n",
    "if a.isalpha():\n",
    "    for i in a:\n",
    "        \n",
    "else:\n",
    "    print \"this mix of other chars\""
   ]
  },
  {
   "cell_type": "code",
   "execution_count": 26,
   "metadata": {
    "collapsed": false
   },
   "outputs": [
    {
     "name": "stdout",
     "output_type": "stream",
     "text": [
      "p\n",
      "y\n",
      "t\n",
      "h\n",
      "o\n",
      "n\n",
      " \n",
      "p\n",
      "r\n",
      "o\n",
      "g\n",
      "r\n",
      "a\n",
      "m\n"
     ]
    }
   ],
   "source": [
    "for i in \"python program\":\n",
    "    print i"
   ]
  },
  {
   "cell_type": "code",
   "execution_count": 27,
   "metadata": {
    "collapsed": false
   },
   "outputs": [
    {
     "name": "stdout",
     "output_type": "stream",
     "text": [
      "Enter string:AbC\n",
      "capital letters\n",
      "not a capital letter\n",
      "capital letters\n"
     ]
    }
   ],
   "source": [
    "# check the given string contains at least one capital letter or not.\n",
    "a=raw_input(\"Enter string:\")\n",
    "if a.isalpha():\n",
    "    for i in a:\n",
    "        if i.isupper():\n",
    "            print \"capital letters\"\n",
    "        else:\n",
    "            print \"not a capital letter\"\n",
    "else:\n",
    "    print \"this mix of other chars\""
   ]
  },
  {
   "cell_type": "code",
   "execution_count": 28,
   "metadata": {
    "collapsed": false
   },
   "outputs": [
    {
     "data": {
      "text/plain": [
       "False"
      ]
     },
     "execution_count": 28,
     "metadata": {},
     "output_type": "execute_result"
    }
   ],
   "source": [
    "\"123Abc\".isalpha()"
   ]
  },
  {
   "cell_type": "code",
   "execution_count": 29,
   "metadata": {
    "collapsed": false
   },
   "outputs": [
    {
     "name": "stdout",
     "output_type": "stream",
     "text": [
      "Enter string:A123Sd\n",
      "capital letters\n",
      "not a capital letter\n",
      "not a capital letter\n",
      "not a capital letter\n",
      "capital letters\n",
      "not a capital letter\n"
     ]
    }
   ],
   "source": [
    "a=raw_input(\"Enter string:\")\n",
    "for i in a:\n",
    "        if i.isupper():\n",
    "            print \"capital letters\"\n",
    "        else:\n",
    "            print \"not a capital letter\""
   ]
  },
  {
   "cell_type": "code",
   "execution_count": 30,
   "metadata": {
    "collapsed": false
   },
   "outputs": [
    {
     "name": "stdout",
     "output_type": "stream",
     "text": [
      "Enter string:asdDEF\n",
      "does the string contains atleat one capital letter or not?: No\n"
     ]
    }
   ],
   "source": [
    "a=raw_input(\"Enter string:\")\n",
    "count=0\n",
    "for i in a:\n",
    "        if i.isupper():\n",
    "            count=count+1\n",
    "            continue\n",
    "        else:\n",
    "            break\n",
    "if count>0:\n",
    "    f=\"yes\"\n",
    "else:\n",
    "    f=\"No\"\n",
    "print \"does the string contains atleat one capital letter or not?: \"+f"
   ]
  },
  {
   "cell_type": "code",
   "execution_count": 31,
   "metadata": {
    "collapsed": false
   },
   "outputs": [
    {
     "name": "stdout",
     "output_type": "stream",
     "text": [
      "Enter string:asdDEF\n",
      "does the string contains atleat one capital letter or not?: yes\n"
     ]
    }
   ],
   "source": [
    "a=raw_input(\"Enter string:\")\n",
    "count=0\n",
    "for i in a:\n",
    "        if i.isupper():\n",
    "            count=count+1\n",
    "if count>0:\n",
    "    f=\"yes\"\n",
    "else:\n",
    "    f=\"No\"\n",
    "print \"does the string contains atleat one capital letter or not?: \"+f"
   ]
  },
  {
   "cell_type": "code",
   "execution_count": 32,
   "metadata": {
    "collapsed": false
   },
   "outputs": [
    {
     "name": "stdout",
     "output_type": "stream",
     "text": [
      "Enter string:Assssssssssasdfdfhjjhgfdsghjhgfdshjkjhgfdfgjk\n",
      "does the string contains atleat one capital letter or not?: yes\n"
     ]
    }
   ],
   "source": [
    "a=raw_input(\"Enter string:\")\n",
    "count=0\n",
    "for i in a:\n",
    "        if i.isupper():\n",
    "            count=count+1\n",
    "if count>0:\n",
    "    f=\"yes\"\n",
    "else:\n",
    "    f=\"No\"\n",
    "print \"does the string contains atleat one capital letter or not?: \"+f"
   ]
  },
  {
   "cell_type": "code",
   "execution_count": 33,
   "metadata": {
    "collapsed": false
   },
   "outputs": [
    {
     "name": "stdout",
     "output_type": "stream",
     "text": [
      "Enter string:bcDefRTYUIOO\n",
      "does the string contains atleat one capital letter or not?: yes\n"
     ]
    }
   ],
   "source": [
    "a=raw_input(\"Enter string:\")\n",
    "count=0\n",
    "for i in a:\n",
    "        if i.isupper():\n",
    "            count=count+1\n",
    "            break\n",
    "if count>0:\n",
    "    f=\"yes\"\n",
    "else:\n",
    "    f=\"No\"\n",
    "print \"does the string contains atleat one capital letter or not?: \"+f"
   ]
  },
  {
   "cell_type": "code",
   "execution_count": 34,
   "metadata": {
    "collapsed": false
   },
   "outputs": [
    {
     "name": "stdout",
     "output_type": "stream",
     "text": [
      "Enter string:asdfQWER\n",
      "does the string contains atleat one capital letter             or not? yes\n"
     ]
    }
   ],
   "source": [
    "a=raw_input(\"Enter string:\")\n",
    "for i in a:\n",
    "        if i.isupper():\n",
    "            print \"does the string contains atleat one capital letter \\\n",
    "            or not? yes\"\n",
    "            break\n"
   ]
  },
  {
   "cell_type": "code",
   "execution_count": 35,
   "metadata": {
    "collapsed": false
   },
   "outputs": [
    {
     "name": "stdout",
     "output_type": "stream",
     "text": [
      "Enter string:asdafsdfsdgfdhh\n"
     ]
    }
   ],
   "source": [
    "a=raw_input(\"Enter string:\")\n",
    "for i in a:\n",
    "        if i.isupper():\n",
    "            print \"does the string contains atleat one capital letter \\\n",
    "            or not? yes\"\n",
    "            break\n"
   ]
  },
  {
   "cell_type": "code",
   "execution_count": 36,
   "metadata": {
    "collapsed": false
   },
   "outputs": [
    {
     "name": "stdout",
     "output_type": "stream",
     "text": [
      "p\n",
      "y\n",
      "t\n",
      "h\n",
      "o\n",
      "n\n",
      "else block\n"
     ]
    }
   ],
   "source": [
    "for i in \"python\":\n",
    "    print i\n",
    "else:\n",
    "    print \"else block\""
   ]
  },
  {
   "cell_type": "code",
   "execution_count": 37,
   "metadata": {
    "collapsed": false
   },
   "outputs": [
    {
     "name": "stdout",
     "output_type": "stream",
     "text": [
      "p\n",
      "y\n",
      "t\n"
     ]
    }
   ],
   "source": [
    "for i in \"python\":\n",
    "    print i\n",
    "    if i==\"t\":\n",
    "        break\n",
    "else:\n",
    "    print \"else block\""
   ]
  },
  {
   "cell_type": "code",
   "execution_count": 38,
   "metadata": {
    "collapsed": false
   },
   "outputs": [
    {
     "name": "stdout",
     "output_type": "stream",
     "text": [
      "p\n",
      "y\n",
      "t\n",
      "h\n",
      "o\n",
      "n\n",
      "else block\n"
     ]
    }
   ],
   "source": [
    "for i in \"python\":\n",
    "    print i\n",
    "else:\n",
    "    print \"else block\""
   ]
  },
  {
   "cell_type": "code",
   "execution_count": 39,
   "metadata": {
    "collapsed": false
   },
   "outputs": [
    {
     "name": "stdout",
     "output_type": "stream",
     "text": [
      "p\n"
     ]
    }
   ],
   "source": [
    "for i in \"python\":\n",
    "    print i\n",
    "    break\n",
    "else:\n",
    "    print \"else block\""
   ]
  },
  {
   "cell_type": "code",
   "execution_count": 40,
   "metadata": {
    "collapsed": false
   },
   "outputs": [
    {
     "name": "stdout",
     "output_type": "stream",
     "text": [
      "Enter string:qwerrty\n",
      "does the string contains atleat one capital letter             or not? No\n"
     ]
    }
   ],
   "source": [
    "a=raw_input(\"Enter string:\")\n",
    "for i in a:\n",
    "        if i.isupper():\n",
    "            print \"does the string contains atleat one capital letter \\\n",
    "            or not? yes\"\n",
    "            break\n",
    "else:\n",
    "    print \"does the string contains atleat one capital letter \\\n",
    "            or not? No\"\n"
   ]
  },
  {
   "cell_type": "code",
   "execution_count": 41,
   "metadata": {
    "collapsed": false
   },
   "outputs": [
    {
     "name": "stdout",
     "output_type": "stream",
     "text": [
      "Enter string:qwerERTRTyuyuuu\n",
      "does the string contains atleat one capital letter             or not? yes\n"
     ]
    }
   ],
   "source": [
    "a=raw_input(\"Enter string:\")\n",
    "for i in a:\n",
    "        if i.isupper():\n",
    "            print \"does the string contains atleat one capital letter \\\n",
    "            or not? yes\"\n",
    "            break\n",
    "else:\n",
    "    print \"does the string contains atleat one capital letter \\\n",
    "            or not? No\"\n"
   ]
  },
  {
   "cell_type": "code",
   "execution_count": 42,
   "metadata": {
    "collapsed": false,
    "scrolled": true
   },
   "outputs": [
    {
     "name": "stdout",
     "output_type": "stream",
     "text": [
      "Enter string:12345566\n",
      "does the string contains atleat one capital letter             or not? No\n"
     ]
    }
   ],
   "source": [
    "a=raw_input(\"Enter string:\")\n",
    "for i in a:\n",
    "        if i.isupper():\n",
    "            print \"does the string contains atleat one capital letter \\\n",
    "            or not? yes\"\n",
    "            break\n",
    "else:\n",
    "    print \"does the string contains atleat one capital letter \\\n",
    "            or not? No\"\n"
   ]
  },
  {
   "cell_type": "code",
   "execution_count": 43,
   "metadata": {
    "collapsed": false
   },
   "outputs": [
    {
     "name": "stdout",
     "output_type": "stream",
     "text": [
      "Enter string:\n",
      "does the string contains atleat one capital letter             or not? No\n"
     ]
    }
   ],
   "source": [
    "a=raw_input(\"Enter string:\")\n",
    "for i in a:\n",
    "        if i.isupper():\n",
    "            print \"does the string contains atleat one capital letter \\\n",
    "            or not? yes\"\n",
    "            break\n",
    "else:\n",
    "    print \"does the string contains atleat one capital letter \\\n",
    "            or not? No\"\n"
   ]
  },
  {
   "cell_type": "code",
   "execution_count": null,
   "metadata": {
    "collapsed": true
   },
   "outputs": [],
   "source": []
  }
 ],
 "metadata": {
  "kernelspec": {
   "display_name": "Python 2",
   "language": "python",
   "name": "python2"
  },
  "language_info": {
   "codemirror_mode": {
    "name": "ipython",
    "version": 2
   },
   "file_extension": ".py",
   "mimetype": "text/x-python",
   "name": "python",
   "nbconvert_exporter": "python",
   "pygments_lexer": "ipython2",
   "version": "2.7.11"
  }
 },
 "nbformat": 4,
 "nbformat_minor": 0
}
