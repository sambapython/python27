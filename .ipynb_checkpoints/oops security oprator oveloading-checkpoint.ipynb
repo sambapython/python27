{
 "cells": [
  {
   "cell_type": "code",
   "execution_count": 1,
   "metadata": {
    "collapsed": false
   },
   "outputs": [
    {
     "name": "stdout",
     "output_type": "stream",
     "text": [
      "Anil,mod\n"
     ]
    }
   ],
   "source": [
    "class Emp:\n",
    "    def __init__(self,name,age,inc_per):\n",
    "        self.name=name\n",
    "        self.age=age\n",
    "        self._incper=inc_per\n",
    "    def cal_sal(self):\n",
    "        return self._incper\n",
    "    def get(self):\n",
    "        return self.name\n",
    "anil=Emp(\"Anil\",23,10)\n",
    "ashok=Emp(\"Ashok\",24,12)\n",
    "anil.name=\"Anil,mod\"\n",
    "print anil.get()\n",
    "\n"
   ]
  },
  {
   "cell_type": "code",
   "execution_count": 5,
   "metadata": {
    "collapsed": false
   },
   "outputs": [
    {
     "name": "stdout",
     "output_type": "stream",
     "text": [
      "Anil,mod\n",
      "10\n"
     ]
    }
   ],
   "source": [
    "class Emp:\n",
    "    def __init__(self,name,age,inc_per):\n",
    "        self.name=name\n",
    "        self.age=age\n",
    "        self.__incper=inc_per\n",
    "    def cal_sal(self):\n",
    "        return self.__incper\n",
    "    def get(self):\n",
    "        return self.name\n",
    "anil=Emp(\"Anil\",23,10)\n",
    "ashok=Emp(\"Ashok\",24,12)\n",
    "anil.name=\"Anil,mod\"\n",
    "print anil.get()\n",
    "anil.__incper=20\n",
    "print anil.cal_sal()\n",
    "\n"
   ]
  },
  {
   "cell_type": "code",
   "execution_count": 7,
   "metadata": {
    "collapsed": false
   },
   "outputs": [
    {
     "name": "stdout",
     "output_type": "stream",
     "text": [
      "Anil,mod\n",
      "44000.0\n"
     ]
    }
   ],
   "source": [
    "class Emp:\n",
    "    def __init__(self,name,age,inc_per,sal):\n",
    "        self.name=name\n",
    "        self.age=age\n",
    "        self.__incper=inc_per\n",
    "        self.sal=sal\n",
    "    def cal_sal(self):\n",
    "        return self.sal+self.sal*(self.__incper/100.0)\n",
    "    def get(self):\n",
    "        return self.name\n",
    "anil=Emp(\"Anil\",23,10,40000)\n",
    "ashok=Emp(\"Ashok\",24,12,30000)\n",
    "anil.name=\"Anil,mod\"\n",
    "print anil.get()\n",
    "anil.__incper=20\n",
    "print anil.cal_sal()\n",
    "\n"
   ]
  },
  {
   "cell_type": "code",
   "execution_count": null,
   "metadata": {
    "collapsed": true
   },
   "outputs": [],
   "source": [
    "class Emp:\n",
    "    def __init__(self,name,age,inc_per,sal):\n",
    "        self.name=name\n",
    "        self.age=age\n",
    "        self.__incper=inc_per\n",
    "        self.sal=sal\n",
    "    def cal_sal(self):\n",
    "        return self.sal+self.sal*(self.__incper/100.0)\n",
    "    def get(self):\n",
    "        return self.name\n",
    "    def __incperchange(self):\n",
    "        return 10\n",
    "anil=Emp(\"Anil\",23,10,40000)\n",
    "ashok=Emp(\"Ashok\",24,12,30000)\n",
    "anil.name=\"Anil,mod\"\n",
    "print anil.get()\n",
    "anil.__incper=20\n",
    "print anil.cal_sal()\n",
    "\n"
   ]
  }
 ],
 "metadata": {
  "kernelspec": {
   "display_name": "Python 2",
   "language": "python",
   "name": "python2"
  },
  "language_info": {
   "codemirror_mode": {
    "name": "ipython",
    "version": 2
   },
   "file_extension": ".py",
   "mimetype": "text/x-python",
   "name": "python",
   "nbconvert_exporter": "python",
   "pygments_lexer": "ipython2",
   "version": "2.7.11"
  }
 },
 "nbformat": 4,
 "nbformat_minor": 0
}
