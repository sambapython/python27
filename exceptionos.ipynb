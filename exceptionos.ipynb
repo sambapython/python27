{
 "cells": [
  {
   "cell_type": "code",
   "execution_count": 1,
   "metadata": {
    "collapsed": false
   },
   "outputs": [
    {
     "name": "stdout",
     "output_type": "stream",
     "text": [
      "prograsm started\n",
      "enter a value:12\n",
      "Enter b value:6\n",
      "res= 2\n",
      "other statements in program\n",
      "program ended\n"
     ]
    }
   ],
   "source": [
    "print \"prograsm started\"\n",
    "a=raw_input(\"enter a value:\")\n",
    "b=raw_input(\"Enter b value:\")\n",
    "a=int(a)\n",
    "b=int(b)\n",
    "res=a/b\n",
    "print \"res=\",res\n",
    "print \"other statements in program\"\n",
    "print \"program ended\""
   ]
  },
  {
   "cell_type": "code",
   "execution_count": 2,
   "metadata": {
    "collapsed": false
   },
   "outputs": [
    {
     "name": "stdout",
     "output_type": "stream",
     "text": [
      "prograsm started\n",
      "enter a value:1.2\n",
      "Enter b value:0.6\n"
     ]
    },
    {
     "ename": "ValueError",
     "evalue": "invalid literal for int() with base 10: '1.2'",
     "output_type": "error",
     "traceback": [
      "\u001b[1;31m---------------------------------------------------------------------------\u001b[0m",
      "\u001b[1;31mValueError\u001b[0m                                Traceback (most recent call last)",
      "\u001b[1;32m<ipython-input-2-37654f1afd8d>\u001b[0m in \u001b[0;36m<module>\u001b[1;34m()\u001b[0m\n\u001b[0;32m      2\u001b[0m \u001b[0ma\u001b[0m\u001b[1;33m=\u001b[0m\u001b[0mraw_input\u001b[0m\u001b[1;33m(\u001b[0m\u001b[1;34m\"enter a value:\"\u001b[0m\u001b[1;33m)\u001b[0m\u001b[1;33m\u001b[0m\u001b[0m\n\u001b[0;32m      3\u001b[0m \u001b[0mb\u001b[0m\u001b[1;33m=\u001b[0m\u001b[0mraw_input\u001b[0m\u001b[1;33m(\u001b[0m\u001b[1;34m\"Enter b value:\"\u001b[0m\u001b[1;33m)\u001b[0m\u001b[1;33m\u001b[0m\u001b[0m\n\u001b[1;32m----> 4\u001b[1;33m \u001b[0ma\u001b[0m\u001b[1;33m=\u001b[0m\u001b[0mint\u001b[0m\u001b[1;33m(\u001b[0m\u001b[0ma\u001b[0m\u001b[1;33m)\u001b[0m\u001b[1;33m\u001b[0m\u001b[0m\n\u001b[0m\u001b[0;32m      5\u001b[0m \u001b[0mb\u001b[0m\u001b[1;33m=\u001b[0m\u001b[0mint\u001b[0m\u001b[1;33m(\u001b[0m\u001b[0mb\u001b[0m\u001b[1;33m)\u001b[0m\u001b[1;33m\u001b[0m\u001b[0m\n\u001b[0;32m      6\u001b[0m \u001b[0mres\u001b[0m\u001b[1;33m=\u001b[0m\u001b[0ma\u001b[0m\u001b[1;33m/\u001b[0m\u001b[0mb\u001b[0m\u001b[1;33m\u001b[0m\u001b[0m\n",
      "\u001b[1;31mValueError\u001b[0m: invalid literal for int() with base 10: '1.2'"
     ]
    }
   ],
   "source": [
    "print \"prograsm started\"\n",
    "a=raw_input(\"enter a value:\")\n",
    "b=raw_input(\"Enter b value:\")\n",
    "a=int(a)\n",
    "b=int(b)\n",
    "res=a/b\n",
    "print \"res=\",res\n",
    "print \"other statements in program\"\n",
    "print \"program ended\""
   ]
  },
  {
   "cell_type": "code",
   "execution_count": 3,
   "metadata": {
    "collapsed": false
   },
   "outputs": [
    {
     "name": "stdout",
     "output_type": "stream",
     "text": [
      "prograsm started\n",
      "enter a value:1.2\n",
      "Enter b value:0.6\n",
      "res= 2.0\n",
      "other statements in program\n",
      "program ended\n"
     ]
    }
   ],
   "source": [
    "print \"prograsm started\"\n",
    "a=raw_input(\"enter a value:\")\n",
    "b=raw_input(\"Enter b value:\")\n",
    "a=float(a)\n",
    "b=float(b)\n",
    "res=a/b\n",
    "print \"res=\",res\n",
    "print \"other statements in program\"\n",
    "print \"program ended\""
   ]
  },
  {
   "cell_type": "code",
   "execution_count": 4,
   "metadata": {
    "collapsed": false
   },
   "outputs": [
    {
     "name": "stdout",
     "output_type": "stream",
     "text": [
      "prograsm started\n",
      "enter a value:12\n",
      "Enter b value:0\n"
     ]
    },
    {
     "ename": "ZeroDivisionError",
     "evalue": "float division by zero",
     "output_type": "error",
     "traceback": [
      "\u001b[1;31m---------------------------------------------------------------------------\u001b[0m",
      "\u001b[1;31mZeroDivisionError\u001b[0m                         Traceback (most recent call last)",
      "\u001b[1;32m<ipython-input-4-89bc184c0c6c>\u001b[0m in \u001b[0;36m<module>\u001b[1;34m()\u001b[0m\n\u001b[0;32m      4\u001b[0m \u001b[0ma\u001b[0m\u001b[1;33m=\u001b[0m\u001b[0mfloat\u001b[0m\u001b[1;33m(\u001b[0m\u001b[0ma\u001b[0m\u001b[1;33m)\u001b[0m\u001b[1;33m\u001b[0m\u001b[0m\n\u001b[0;32m      5\u001b[0m \u001b[0mb\u001b[0m\u001b[1;33m=\u001b[0m\u001b[0mfloat\u001b[0m\u001b[1;33m(\u001b[0m\u001b[0mb\u001b[0m\u001b[1;33m)\u001b[0m\u001b[1;33m\u001b[0m\u001b[0m\n\u001b[1;32m----> 6\u001b[1;33m \u001b[0mres\u001b[0m\u001b[1;33m=\u001b[0m\u001b[0ma\u001b[0m\u001b[1;33m/\u001b[0m\u001b[0mb\u001b[0m\u001b[1;33m\u001b[0m\u001b[0m\n\u001b[0m\u001b[0;32m      7\u001b[0m \u001b[1;32mprint\u001b[0m \u001b[1;34m\"res=\"\u001b[0m\u001b[1;33m,\u001b[0m\u001b[0mres\u001b[0m\u001b[1;33m\u001b[0m\u001b[0m\n\u001b[0;32m      8\u001b[0m \u001b[1;32mprint\u001b[0m \u001b[1;34m\"other statements in program\"\u001b[0m\u001b[1;33m\u001b[0m\u001b[0m\n",
      "\u001b[1;31mZeroDivisionError\u001b[0m: float division by zero"
     ]
    }
   ],
   "source": [
    "print \"prograsm started\"\n",
    "a=raw_input(\"enter a value:\")\n",
    "b=raw_input(\"Enter b value:\")\n",
    "a=float(a)\n",
    "b=float(b)\n",
    "res=a/b\n",
    "print \"res=\",res\n",
    "print \"other statements in program\"\n",
    "print \"program ended\""
   ]
  },
  {
   "cell_type": "code",
   "execution_count": 5,
   "metadata": {
    "collapsed": false
   },
   "outputs": [
    {
     "name": "stdout",
     "output_type": "stream",
     "text": [
      "prograsm started\n",
      "enter a value:qwewqe\n",
      "Enter b value:qwewq\n"
     ]
    },
    {
     "ename": "ValueError",
     "evalue": "could not convert string to float: qwewqe",
     "output_type": "error",
     "traceback": [
      "\u001b[1;31m---------------------------------------------------------------------------\u001b[0m",
      "\u001b[1;31mValueError\u001b[0m                                Traceback (most recent call last)",
      "\u001b[1;32m<ipython-input-5-89bc184c0c6c>\u001b[0m in \u001b[0;36m<module>\u001b[1;34m()\u001b[0m\n\u001b[0;32m      2\u001b[0m \u001b[0ma\u001b[0m\u001b[1;33m=\u001b[0m\u001b[0mraw_input\u001b[0m\u001b[1;33m(\u001b[0m\u001b[1;34m\"enter a value:\"\u001b[0m\u001b[1;33m)\u001b[0m\u001b[1;33m\u001b[0m\u001b[0m\n\u001b[0;32m      3\u001b[0m \u001b[0mb\u001b[0m\u001b[1;33m=\u001b[0m\u001b[0mraw_input\u001b[0m\u001b[1;33m(\u001b[0m\u001b[1;34m\"Enter b value:\"\u001b[0m\u001b[1;33m)\u001b[0m\u001b[1;33m\u001b[0m\u001b[0m\n\u001b[1;32m----> 4\u001b[1;33m \u001b[0ma\u001b[0m\u001b[1;33m=\u001b[0m\u001b[0mfloat\u001b[0m\u001b[1;33m(\u001b[0m\u001b[0ma\u001b[0m\u001b[1;33m)\u001b[0m\u001b[1;33m\u001b[0m\u001b[0m\n\u001b[0m\u001b[0;32m      5\u001b[0m \u001b[0mb\u001b[0m\u001b[1;33m=\u001b[0m\u001b[0mfloat\u001b[0m\u001b[1;33m(\u001b[0m\u001b[0mb\u001b[0m\u001b[1;33m)\u001b[0m\u001b[1;33m\u001b[0m\u001b[0m\n\u001b[0;32m      6\u001b[0m \u001b[0mres\u001b[0m\u001b[1;33m=\u001b[0m\u001b[0ma\u001b[0m\u001b[1;33m/\u001b[0m\u001b[0mb\u001b[0m\u001b[1;33m\u001b[0m\u001b[0m\n",
      "\u001b[1;31mValueError\u001b[0m: could not convert string to float: qwewqe"
     ]
    }
   ],
   "source": [
    "print \"prograsm started\"\n",
    "a=raw_input(\"enter a value:\")\n",
    "b=raw_input(\"Enter b value:\")\n",
    "a=float(a)\n",
    "b=float(b)\n",
    "res=a/b\n",
    "print \"res=\",res\n",
    "print \"other statements in program\"\n",
    "print \"program ended\""
   ]
  },
  {
   "cell_type": "code",
   "execution_count": 6,
   "metadata": {
    "collapsed": false
   },
   "outputs": [
    {
     "name": "stdout",
     "output_type": "stream",
     "text": [
      "prograsm started\n",
      "enter a value:12\n",
      "Enter b value:6\n",
      "res= 2.0\n",
      "other statements in program\n",
      "program ended\n"
     ]
    }
   ],
   "source": [
    "try:\n",
    "    print \"prograsm started\"\n",
    "    a=raw_input(\"enter a value:\")\n",
    "    b=raw_input(\"Enter b value:\")\n",
    "    a=float(a)\n",
    "    b=float(b)\n",
    "    res=a/b\n",
    "    print \"res=\",res\n",
    "    print \"other statements in program\"\n",
    "    print \"program ended\"\n",
    "except:\n",
    "    print \"something went wrong\"\n"
   ]
  },
  {
   "cell_type": "code",
   "execution_count": 7,
   "metadata": {
    "collapsed": false
   },
   "outputs": [
    {
     "name": "stdout",
     "output_type": "stream",
     "text": [
      "prograsm started\n",
      "enter a value:2\n",
      "Enter b value:0\n",
      "something went wrong\n"
     ]
    }
   ],
   "source": [
    "try:\n",
    "    print \"prograsm started\"\n",
    "    a=raw_input(\"enter a value:\")\n",
    "    b=raw_input(\"Enter b value:\")\n",
    "    a=float(a)\n",
    "    b=float(b)\n",
    "    res=a/b\n",
    "    print \"res=\",res\n",
    "    print \"other statements in program\"\n",
    "    print \"program ended\"\n",
    "except:\n",
    "    print \"something went wrong\"\n"
   ]
  },
  {
   "cell_type": "code",
   "execution_count": 8,
   "metadata": {
    "collapsed": false
   },
   "outputs": [
    {
     "name": "stdout",
     "output_type": "stream",
     "text": [
      "prograsm started\n",
      "enter a value:12\n",
      "Enter b value:6\n",
      "res= 2.0\n",
      "other statements in program\n",
      "program ended\n"
     ]
    }
   ],
   "source": [
    "print \"prograsm started\"\n",
    "a=raw_input(\"enter a value:\")\n",
    "b=raw_input(\"Enter b value:\")\n",
    "try:\n",
    "    a=float(a)\n",
    "    b=float(b)\n",
    "    res=a/b\n",
    "    print \"res=\",res\n",
    "except:\n",
    "    print \"something went wrong\"\n",
    "print \"other statements in program\"\n",
    "print \"program ended\""
   ]
  },
  {
   "cell_type": "code",
   "execution_count": 9,
   "metadata": {
    "collapsed": false
   },
   "outputs": [
    {
     "name": "stdout",
     "output_type": "stream",
     "text": [
      "prograsm started\n",
      "enter a value:12\n",
      "Enter b value:0\n",
      "something went wrong\n",
      "other statements in program\n",
      "program ended\n"
     ]
    }
   ],
   "source": [
    "print \"prograsm started\"\n",
    "a=raw_input(\"enter a value:\")\n",
    "b=raw_input(\"Enter b value:\")\n",
    "try:\n",
    "    a=float(a)\n",
    "    b=float(b)\n",
    "    res=a/b\n",
    "    print \"res=\",res\n",
    "except:\n",
    "    print \"something went wrong\"\n",
    "print \"other statements in program\"\n",
    "print \"program ended\""
   ]
  },
  {
   "cell_type": "code",
   "execution_count": 10,
   "metadata": {
    "collapsed": false
   },
   "outputs": [
    {
     "name": "stdout",
     "output_type": "stream",
     "text": [
      "prograsm started\n",
      "enter a value:12\n",
      "Enter b value:0\n",
      "something went wrong\n",
      "other statements in program\n",
      "program ended\n"
     ]
    }
   ],
   "source": [
    "print \"prograsm started\"\n",
    "a=raw_input(\"enter a value:\")\n",
    "b=raw_input(\"Enter b value:\")\n",
    "try:\n",
    "    a=float(a)\n",
    "    b=float(b)\n",
    "    res=a/b\n",
    "    print \"res=\",res\n",
    "except:\n",
    "    print \"something went wrong\"\n",
    "print \"other statements in program\"\n",
    "print \"program ended\""
   ]
  },
  {
   "cell_type": "code",
   "execution_count": 11,
   "metadata": {
    "collapsed": false
   },
   "outputs": [
    {
     "name": "stdout",
     "output_type": "stream",
     "text": [
      "prograsm started\n",
      "enter a value:12\n",
      "Enter b value:0\n",
      "Don't pass 0 for second value\n",
      "other statements in program\n",
      "program ended\n"
     ]
    }
   ],
   "source": [
    "print \"prograsm started\"\n",
    "a=raw_input(\"enter a value:\")\n",
    "b=raw_input(\"Enter b value:\")\n",
    "try:\n",
    "    a=float(a)\n",
    "    b=float(b)\n",
    "    res=a/b\n",
    "    print \"res=\",res\n",
    "except:\n",
    "    print \"Don't pass 0 for second value\"\n",
    "print \"other statements in program\"\n",
    "print \"program ended\""
   ]
  },
  {
   "cell_type": "code",
   "execution_count": 12,
   "metadata": {
    "collapsed": false
   },
   "outputs": [
    {
     "name": "stdout",
     "output_type": "stream",
     "text": [
      "prograsm started\n",
      "enter a value:wer\n",
      "Enter b value:wewer\n",
      "Don't pass 0 for second value\n",
      "other statements in program\n",
      "program ended\n"
     ]
    }
   ],
   "source": [
    "print \"prograsm started\"\n",
    "a=raw_input(\"enter a value:\")\n",
    "b=raw_input(\"Enter b value:\")\n",
    "try:\n",
    "    a=float(a)\n",
    "    b=float(b)\n",
    "    res=a/b\n",
    "    print \"res=\",res\n",
    "except:\n",
    "    print \"Don't pass 0 for second value\"\n",
    "print \"other statements in program\"\n",
    "print \"program ended\""
   ]
  },
  {
   "cell_type": "code",
   "execution_count": 13,
   "metadata": {
    "collapsed": false
   },
   "outputs": [
    {
     "name": "stdout",
     "output_type": "stream",
     "text": [
      "prograsm started\n",
      "enter a value:12\n",
      "Enter b value:6\n",
      "res= 2.0\n",
      "other statements in program\n",
      "program ended\n"
     ]
    }
   ],
   "source": [
    "print \"prograsm started\"\n",
    "a=raw_input(\"enter a value:\")\n",
    "b=raw_input(\"Enter b value:\")\n",
    "try:\n",
    "    a=float(a)\n",
    "    b=float(b)\n",
    "    res=a/b\n",
    "    print \"res=\",res\n",
    "except Exception as err:\n",
    "    print err\n",
    "print \"other statements in program\"\n",
    "print \"program ended\""
   ]
  },
  {
   "cell_type": "code",
   "execution_count": 14,
   "metadata": {
    "collapsed": false
   },
   "outputs": [
    {
     "name": "stdout",
     "output_type": "stream",
     "text": [
      "prograsm started\n",
      "enter a value:12\n",
      "Enter b value:0\n",
      "float division by zero\n",
      "other statements in program\n",
      "program ended\n"
     ]
    }
   ],
   "source": [
    "print \"prograsm started\"\n",
    "a=raw_input(\"enter a value:\")\n",
    "b=raw_input(\"Enter b value:\")\n",
    "try:\n",
    "    a=float(a)\n",
    "    b=float(b)\n",
    "    res=a/b\n",
    "    print \"res=\",res\n",
    "except Exception as err:\n",
    "    print err\n",
    "print \"other statements in program\"\n",
    "print \"program ended\""
   ]
  },
  {
   "cell_type": "code",
   "execution_count": 15,
   "metadata": {
    "collapsed": false
   },
   "outputs": [
    {
     "name": "stdout",
     "output_type": "stream",
     "text": [
      "prograsm started\n",
      "enter a value:wer\n",
      "Enter b value:34\n",
      "could not convert string to float: wer\n",
      "other statements in program\n",
      "program ended\n"
     ]
    }
   ],
   "source": [
    "print \"prograsm started\"\n",
    "a=raw_input(\"enter a value:\")\n",
    "b=raw_input(\"Enter b value:\")\n",
    "try:\n",
    "    a=float(a)\n",
    "    b=float(b)\n",
    "    res=a/b\n",
    "    print \"res=\",res\n",
    "except Exception as err:\n",
    "    print err\n",
    "print \"other statements in program\"\n",
    "print \"program ended\""
   ]
  },
  {
   "cell_type": "code",
   "execution_count": 16,
   "metadata": {
    "collapsed": false
   },
   "outputs": [
    {
     "name": "stdout",
     "output_type": "stream",
     "text": [
      "prograsm started\n",
      "enter a value:12\n",
      "Enter b value:0\n",
      "Don't pass 0 for second value\n",
      "don't enter characters enter only digits\n",
      "other statements in program\n",
      "program ended\n"
     ]
    }
   ],
   "source": [
    "print \"prograsm started\"\n",
    "a=raw_input(\"enter a value:\")\n",
    "b=raw_input(\"Enter b value:\")\n",
    "try:\n",
    "    a=float(a)\n",
    "    b=float(b)\n",
    "    res=a/b\n",
    "    print \"res=\",res\n",
    "except:\n",
    "    print \"Don't pass 0 for second value\"\n",
    "    print \"don't enter characters enter only digits\"\n",
    "print \"other statements in program\"\n",
    "print \"program ended\""
   ]
  },
  {
   "cell_type": "code",
   "execution_count": 17,
   "metadata": {
    "collapsed": false
   },
   "outputs": [
    {
     "name": "stdout",
     "output_type": "stream",
     "text": [
      "prograsm started\n",
      "enter a value:12\n",
      "Enter b value:6\n",
      "res= 2.0\n",
      "other statements in program\n",
      "program ended\n"
     ]
    }
   ],
   "source": [
    "print \"prograsm started\"\n",
    "a=raw_input(\"enter a value:\")\n",
    "b=raw_input(\"Enter b value:\")\n",
    "try:\n",
    "    a=float(a)\n",
    "    b=float(b)\n",
    "    res=a/b\n",
    "    print \"res=\",res\n",
    "except ZeroDivisionError:\n",
    "    print \"Don't pass 0 for second value\"\n",
    "except ValueError:\n",
    "    print \"don't enter characters enter only digits\"\n",
    "print \"other statements in program\"\n",
    "print \"program ended\""
   ]
  },
  {
   "cell_type": "code",
   "execution_count": 18,
   "metadata": {
    "collapsed": false
   },
   "outputs": [
    {
     "name": "stdout",
     "output_type": "stream",
     "text": [
      "prograsm started\n",
      "enter a value:12\n",
      "Enter b value:0\n",
      "Don't pass 0 for second value\n",
      "other statements in program\n",
      "program ended\n"
     ]
    }
   ],
   "source": [
    "print \"prograsm started\"\n",
    "a=raw_input(\"enter a value:\")\n",
    "b=raw_input(\"Enter b value:\")\n",
    "try:\n",
    "    a=float(a)\n",
    "    b=float(b)\n",
    "    res=a/b\n",
    "    print \"res=\",res\n",
    "except ZeroDivisionError:\n",
    "    print \"Don't pass 0 for second value\"\n",
    "except ValueError:\n",
    "    print \"don't enter characters enter only digits\"\n",
    "print \"other statements in program\"\n",
    "print \"program ended\""
   ]
  },
  {
   "cell_type": "code",
   "execution_count": 19,
   "metadata": {
    "collapsed": false
   },
   "outputs": [
    {
     "name": "stdout",
     "output_type": "stream",
     "text": [
      "prograsm started\n",
      "enter a value:wer\n",
      "Enter b value:ert\n",
      "don't enter characters enter only digits\n",
      "other statements in program\n",
      "program ended\n"
     ]
    }
   ],
   "source": [
    "print \"prograsm started\"\n",
    "a=raw_input(\"enter a value:\")\n",
    "b=raw_input(\"Enter b value:\")\n",
    "try:\n",
    "    a=float(a)\n",
    "    b=float(b)\n",
    "    res=a/b\n",
    "    print \"res=\",res\n",
    "except ZeroDivisionError:\n",
    "    print \"Don't pass 0 for second value\"\n",
    "except ValueError:\n",
    "    print \"don't enter characters enter only digits\"\n",
    "print \"other statements in program\"\n",
    "print \"program ended\""
   ]
  },
  {
   "cell_type": "code",
   "execution_count": 20,
   "metadata": {
    "collapsed": false
   },
   "outputs": [
    {
     "name": "stdout",
     "output_type": "stream",
     "text": [
      "prograsm started\n",
      "enter a value:12\n",
      "Enter b value:6\n",
      "res= 2.0\n",
      "other statements in program\n",
      "program ended\n"
     ]
    }
   ],
   "source": [
    "print \"prograsm started\"\n",
    "a=raw_input(\"enter a value:\")\n",
    "b=raw_input(\"Enter b value:\")\n",
    "try:\n",
    "    a=float(a)\n",
    "    b=float(b)\n",
    "    res=a/b\n",
    "    print \"res=\",res\n",
    "except ZeroDivisionError:\n",
    "    print \"Don't pass 0 for second value\"\n",
    "except ValueError:\n",
    "    print \"don't enter characters enter only digits\"\n",
    "except Exception as err:\n",
    "    print err\n",
    "print \"other statements in program\"\n",
    "print \"program ended\""
   ]
  },
  {
   "cell_type": "code",
   "execution_count": 21,
   "metadata": {
    "collapsed": false
   },
   "outputs": [
    {
     "name": "stdout",
     "output_type": "stream",
     "text": [
      "prograsm started\n",
      "enter a value:12\n",
      "Enter b value:0\n",
      "float division by zero\n",
      "other statements in program\n",
      "program ended\n"
     ]
    }
   ],
   "source": [
    "print \"prograsm started\"\n",
    "a=raw_input(\"enter a value:\")\n",
    "b=raw_input(\"Enter b value:\")\n",
    "try:\n",
    "    a=float(a)\n",
    "    b=float(b)\n",
    "    res=a/b\n",
    "    print \"res=\",res\n",
    "except Exception as err:\n",
    "    print err\n",
    "except ZeroDivisionError:\n",
    "    print \"Don't pass 0 for second value\"\n",
    "except ValueError:\n",
    "    print \"don't enter characters enter only digits\"\n",
    "\n",
    "print \"other statements in program\"\n",
    "print \"program ended\""
   ]
  },
  {
   "cell_type": "code",
   "execution_count": 22,
   "metadata": {
    "collapsed": false
   },
   "outputs": [
    {
     "name": "stdout",
     "output_type": "stream",
     "text": [
      "prograsm started\n",
      "enter a value:12\n",
      "Enter b value:2\n",
      "res= 6.0\n",
      "finally block\n",
      "other statements in program\n",
      "program ended\n"
     ]
    }
   ],
   "source": [
    "print \"prograsm started\"\n",
    "a=raw_input(\"enter a value:\")\n",
    "b=raw_input(\"Enter b value:\")\n",
    "try:\n",
    "    a=float(a)\n",
    "    b=float(b)\n",
    "    res=a/b\n",
    "    print \"res=\",res\n",
    "except ZeroDivisionError:\n",
    "    print \"Don't pass 0 for second value\"\n",
    "except ValueError:\n",
    "    print \"don't enter characters enter only digits\"\n",
    "except Exception as err:\n",
    "    print err\n",
    "finally:\n",
    "    print \"finally block\"\n",
    "\n",
    "print \"other statements in program\"\n",
    "print \"program ended\""
   ]
  },
  {
   "cell_type": "code",
   "execution_count": 23,
   "metadata": {
    "collapsed": false
   },
   "outputs": [
    {
     "name": "stdout",
     "output_type": "stream",
     "text": [
      "prograsm started\n",
      "enter a value:12\n",
      "Enter b value:0\n",
      "Don't pass 0 for second value\n",
      "finally block\n",
      "other statements in program\n",
      "program ended\n"
     ]
    }
   ],
   "source": [
    "print \"prograsm started\"\n",
    "a=raw_input(\"enter a value:\")\n",
    "b=raw_input(\"Enter b value:\")\n",
    "try:\n",
    "    a=float(a)\n",
    "    b=float(b)\n",
    "    res=a/b\n",
    "    print \"res=\",res\n",
    "except ZeroDivisionError:\n",
    "    print \"Don't pass 0 for second value\"\n",
    "except ValueError:\n",
    "    print \"don't enter characters enter only digits\"\n",
    "except Exception as err:\n",
    "    print err\n",
    "finally:\n",
    "    print \"finally block\"\n",
    "\n",
    "print \"other statements in program\"\n",
    "print \"program ended\""
   ]
  },
  {
   "cell_type": "code",
   "execution_count": 25,
   "metadata": {
    "collapsed": false
   },
   "outputs": [
    {
     "name": "stdout",
     "output_type": "stream",
     "text": [
      "prograsm started\n",
      "enter a value:12\n",
      "Enter b value:2\n",
      "res= 6.0\n",
      "else block\n",
      "finally block\n",
      "other statements in program\n",
      "program ended\n"
     ]
    }
   ],
   "source": [
    "print \"prograsm started\"\n",
    "a=raw_input(\"enter a value:\")\n",
    "b=raw_input(\"Enter b value:\")\n",
    "try:\n",
    "    a=float(a)\n",
    "    b=float(b)\n",
    "    res=a/b\n",
    "    print \"res=\",res\n",
    "except ZeroDivisionError:\n",
    "    print \"Don't pass 0 for second value\"\n",
    "except ValueError:\n",
    "    print \"don't enter characters enter only digits\"\n",
    "except Exception as err:\n",
    "    print err\n",
    "else:\n",
    "    print \"else block\"\n",
    "finally:\n",
    "    print \"finally block\"\n",
    "\n",
    "\n",
    "print \"other statements in program\"\n",
    "print \"program ended\""
   ]
  },
  {
   "cell_type": "code",
   "execution_count": 26,
   "metadata": {
    "collapsed": false
   },
   "outputs": [
    {
     "name": "stdout",
     "output_type": "stream",
     "text": [
      "prograsm started\n",
      "enter a value:12\n",
      "Enter b value:0\n",
      "Don't pass 0 for second value\n",
      "finally block\n",
      "other statements in program\n",
      "program ended\n"
     ]
    }
   ],
   "source": [
    "print \"prograsm started\"\n",
    "a=raw_input(\"enter a value:\")\n",
    "b=raw_input(\"Enter b value:\")\n",
    "try:\n",
    "    a=float(a)\n",
    "    b=float(b)\n",
    "    res=a/b\n",
    "    print \"res=\",res\n",
    "except ZeroDivisionError:\n",
    "    print \"Don't pass 0 for second value\"\n",
    "except ValueError:\n",
    "    print \"don't enter characters enter only digits\"\n",
    "except Exception as err:\n",
    "    print err\n",
    "else:\n",
    "    print \"else block\"\n",
    "finally:\n",
    "    print \"finally block\"\n",
    "\n",
    "\n",
    "print \"other statements in program\"\n",
    "print \"program ended\""
   ]
  },
  {
   "cell_type": "code",
   "execution_count": 27,
   "metadata": {
    "collapsed": false
   },
   "outputs": [
    {
     "name": "stdout",
     "output_type": "stream",
     "text": [
      "prograsm started\n",
      "enter a value:12\n",
      "Enter b value:2\n",
      "res= 6.0\n",
      "finally block\n",
      "other statements in program\n",
      "program ended\n"
     ]
    }
   ],
   "source": [
    "print \"prograsm started\"\n",
    "a=raw_input(\"enter a value:\")\n",
    "b=raw_input(\"Enter b value:\")\n",
    "try:\n",
    "    a=float(a)\n",
    "    b=float(b)\n",
    "    res=a/b\n",
    "    print \"res=\",res\n",
    "finally:\n",
    "    print \"finally block\"\n",
    "\n",
    "\n",
    "print \"other statements in program\"\n",
    "print \"program ended\""
   ]
  },
  {
   "cell_type": "code",
   "execution_count": 28,
   "metadata": {
    "collapsed": false
   },
   "outputs": [
    {
     "name": "stdout",
     "output_type": "stream",
     "text": [
      "prograsm started\n",
      "enter a value:12\n",
      "Enter b value:0\n",
      "finally block\n"
     ]
    },
    {
     "ename": "ZeroDivisionError",
     "evalue": "float division by zero",
     "output_type": "error",
     "traceback": [
      "\u001b[1;31m---------------------------------------------------------------------------\u001b[0m",
      "\u001b[1;31mZeroDivisionError\u001b[0m                         Traceback (most recent call last)",
      "\u001b[1;32m<ipython-input-28-78cf0414d95b>\u001b[0m in \u001b[0;36m<module>\u001b[1;34m()\u001b[0m\n\u001b[0;32m      5\u001b[0m     \u001b[0ma\u001b[0m\u001b[1;33m=\u001b[0m\u001b[0mfloat\u001b[0m\u001b[1;33m(\u001b[0m\u001b[0ma\u001b[0m\u001b[1;33m)\u001b[0m\u001b[1;33m\u001b[0m\u001b[0m\n\u001b[0;32m      6\u001b[0m     \u001b[0mb\u001b[0m\u001b[1;33m=\u001b[0m\u001b[0mfloat\u001b[0m\u001b[1;33m(\u001b[0m\u001b[0mb\u001b[0m\u001b[1;33m)\u001b[0m\u001b[1;33m\u001b[0m\u001b[0m\n\u001b[1;32m----> 7\u001b[1;33m     \u001b[0mres\u001b[0m\u001b[1;33m=\u001b[0m\u001b[0ma\u001b[0m\u001b[1;33m/\u001b[0m\u001b[0mb\u001b[0m\u001b[1;33m\u001b[0m\u001b[0m\n\u001b[0m\u001b[0;32m      8\u001b[0m     \u001b[1;32mprint\u001b[0m \u001b[1;34m\"res=\"\u001b[0m\u001b[1;33m,\u001b[0m\u001b[0mres\u001b[0m\u001b[1;33m\u001b[0m\u001b[0m\n\u001b[0;32m      9\u001b[0m \u001b[1;32mfinally\u001b[0m\u001b[1;33m:\u001b[0m\u001b[1;33m\u001b[0m\u001b[0m\n",
      "\u001b[1;31mZeroDivisionError\u001b[0m: float division by zero"
     ]
    }
   ],
   "source": [
    "print \"prograsm started\"\n",
    "a=raw_input(\"enter a value:\")\n",
    "b=raw_input(\"Enter b value:\")\n",
    "try:\n",
    "    a=float(a)\n",
    "    b=float(b)\n",
    "    res=a/b\n",
    "    print \"res=\",res\n",
    "finally:\n",
    "    print \"finally block\"\n",
    "\n",
    "\n",
    "print \"other statements in program\"\n",
    "print \"program ended\""
   ]
  },
  {
   "cell_type": "code",
   "execution_count": 29,
   "metadata": {
    "collapsed": false
   },
   "outputs": [
    {
     "name": "stdout",
     "output_type": "stream",
     "text": [
      "0\n"
     ]
    }
   ],
   "source": [
    "def fun():\n",
    "    return 0\n",
    "    return 10\n",
    "    print \"this is function end\"\n",
    "print fun()"
   ]
  },
  {
   "cell_type": "code",
   "execution_count": 30,
   "metadata": {
    "collapsed": false
   },
   "outputs": [
    {
     "name": "stdout",
     "output_type": "stream",
     "text": [
      "100\n"
     ]
    }
   ],
   "source": [
    "def fun():\n",
    "    try:\n",
    "        return 0\n",
    "    except:\n",
    "        return 10\n",
    "    finally:\n",
    "        return 100\n",
    "print fun()"
   ]
  },
  {
   "cell_type": "code",
   "execution_count": 31,
   "metadata": {
    "collapsed": false
   },
   "outputs": [
    {
     "name": "stdout",
     "output_type": "stream",
     "text": [
      "100\n"
     ]
    }
   ],
   "source": [
    "def fun():\n",
    "    try:\n",
    "        print 1/0\n",
    "        return 0\n",
    "    except:\n",
    "        return 10\n",
    "    finally:\n",
    "        return 100\n",
    "print fun()"
   ]
  },
  {
   "cell_type": "code",
   "execution_count": 32,
   "metadata": {
    "collapsed": false,
    "scrolled": true
   },
   "outputs": [
    {
     "name": "stdout",
     "output_type": "stream",
     "text": [
      "ea\n",
      "ea\n",
      "0xea\n"
     ]
    }
   ],
   "source": [
    "a=234\n",
    "print \"%x\"%a\n",
    "print \"{0:x}\".format(a)\n",
    "print hex(a)"
   ]
  },
  {
   "cell_type": "code",
   "execution_count": 33,
   "metadata": {
    "collapsed": false
   },
   "outputs": [
    {
     "name": "stdout",
     "output_type": "stream",
     "text": [
      "234\n"
     ]
    }
   ],
   "source": [
    "print 0xea"
   ]
  },
  {
   "cell_type": "code",
   "execution_count": 34,
   "metadata": {
    "collapsed": false
   },
   "outputs": [
    {
     "data": {
      "text/plain": [
       "234"
      ]
     },
     "execution_count": 34,
     "metadata": {},
     "output_type": "execute_result"
    }
   ],
   "source": [
    "10*16**0+14*16**1"
   ]
  },
  {
   "cell_type": "code",
   "execution_count": null,
   "metadata": {
    "collapsed": true
   },
   "outputs": [],
   "source": []
  }
 ],
 "metadata": {
  "kernelspec": {
   "display_name": "Python 2",
   "language": "python",
   "name": "python2"
  },
  "language_info": {
   "codemirror_mode": {
    "name": "ipython",
    "version": 2
   },
   "file_extension": ".py",
   "mimetype": "text/x-python",
   "name": "python",
   "nbconvert_exporter": "python",
   "pygments_lexer": "ipython2",
   "version": "2.7.11"
  }
 },
 "nbformat": 4,
 "nbformat_minor": 0
}
